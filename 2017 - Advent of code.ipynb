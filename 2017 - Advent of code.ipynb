{
 "cells": [
  {
   "cell_type": "markdown",
   "metadata": {},
   "source": [
    "## Advent Of Code 2017"
   ]
  },
  {
   "cell_type": "code",
   "execution_count": 1,
   "metadata": {},
   "outputs": [],
   "source": [
    "def rotate(list, n):\n",
    "    return list[n:] + list[:n]"
   ]
  },
  {
   "cell_type": "code",
   "execution_count": 2,
   "metadata": {},
   "outputs": [],
   "source": [
    "list = [1,2,3,4]\n",
    "rotate_1 = rotate(list,1)\n",
    "zipped_list = zip(list, rotate_1)"
   ]
  },
  {
   "cell_type": "code",
   "execution_count": 3,
   "metadata": {},
   "outputs": [],
   "source": [
    "assert rotate(list, 2) == [3,4,1,2]\n",
    "assert rotate(list, 4) == [1,2,3,4]\n",
    "assert rotate(list, 3) == [4,1,2,3]"
   ]
  },
  {
   "cell_type": "code",
   "execution_count": 4,
   "metadata": {},
   "outputs": [],
   "source": [
    "# convert a string containing numbers to a list of ints\n",
    "def convert_int_list(input_string):\n",
    "    return [int(i) for i in str(input_string)]"
   ]
  },
  {
   "cell_type": "code",
   "execution_count": 1,
   "metadata": {},
   "outputs": [
    {
     "ename": "NameError",
     "evalue": "name 'convert_int_list' is not defined",
     "output_type": "error",
     "traceback": [
      "\u001b[0;31m---------------------------------------------------------------------------\u001b[0m",
      "\u001b[0;31mNameError\u001b[0m                                 Traceback (most recent call last)",
      "\u001b[0;32m<ipython-input-1-dbb541da8a79>\u001b[0m in \u001b[0;36m<module>\u001b[0;34m()\u001b[0m\n\u001b[0;32m----> 1\u001b[0;31m \u001b[0;32massert\u001b[0m \u001b[0mconvert_int_list\u001b[0m\u001b[0;34m(\u001b[0m\u001b[0;34m\"1234\"\u001b[0m\u001b[0;34m)\u001b[0m \u001b[0;34m==\u001b[0m \u001b[0;34m[\u001b[0m\u001b[0;36m1\u001b[0m\u001b[0;34m,\u001b[0m\u001b[0;36m2\u001b[0m\u001b[0;34m,\u001b[0m\u001b[0;36m3\u001b[0m\u001b[0;34m,\u001b[0m\u001b[0;36m4\u001b[0m\u001b[0;34m]\u001b[0m\u001b[0;34m\u001b[0m\u001b[0m\n\u001b[0m\u001b[1;32m      2\u001b[0m \u001b[0;32massert\u001b[0m \u001b[0mconvert_int_list\u001b[0m\u001b[0;34m(\u001b[0m\u001b[0;34m\"54321\"\u001b[0m\u001b[0;34m)\u001b[0m \u001b[0;34m==\u001b[0m \u001b[0;34m[\u001b[0m\u001b[0;36m5\u001b[0m\u001b[0;34m,\u001b[0m\u001b[0;36m4\u001b[0m\u001b[0;34m,\u001b[0m\u001b[0;36m3\u001b[0m\u001b[0;34m,\u001b[0m\u001b[0;36m2\u001b[0m\u001b[0;34m,\u001b[0m\u001b[0;36m1\u001b[0m\u001b[0;34m]\u001b[0m\u001b[0;34m\u001b[0m\u001b[0m\n",
      "\u001b[0;31mNameError\u001b[0m: name 'convert_int_list' is not defined"
     ]
    }
   ],
   "source": [
    "assert convert_int_list(\"1234\") == [1,2,3,4]\n",
    "assert convert_int_list(\"54321\") == [5,4,3,2,1]"
   ]
  },
  {
   "cell_type": "markdown",
   "metadata": {},
   "source": [
    "### Day 1 part 1"
   ]
  },
  {
   "cell_type": "code",
   "execution_count": 6,
   "metadata": {},
   "outputs": [],
   "source": [
    "def sum_list(list):\n",
    "    int_list = convert_int_list(list)\n",
    "    number_items = len(int_list)\n",
    "    matching_sum = 0\n",
    "    for i in range(number_items):\n",
    "        if int_list[0] == int_list[1]:\n",
    "            matching_sum += int_list[0]\n",
    "        \n",
    "        int_list = rotate(int_list,1)\n",
    "    return matching_sum"
   ]
  },
  {
   "cell_type": "code",
   "execution_count": 7,
   "metadata": {},
   "outputs": [],
   "source": [
    "assert sum_list(\"1111\") == 4\n",
    "assert sum_list(\"1234\") == 0\n",
    "assert sum_list(\"1122\") == 3\n",
    "assert sum_list(\"91212129\") ==9"
   ]
  },
  {
   "cell_type": "code",
   "execution_count": 8,
   "metadata": {},
   "outputs": [],
   "source": [
    "#This is a better implementation\n",
    "def sum_string(string):\n",
    "    int_list = convert_int_list(string)\n",
    "    rotated_list = rotate(int_list,1)\n",
    "    return sum(x for x, y in zip(int_list, rotated_list) if x == y)\n",
    "\n",
    "assert sum_string(\"91212129\") == 9\n",
    "assert sum_string(\"1111\") == 4\n",
    "assert sum_string(\"1234\") == 0\n",
    "assert sum_string(\"1122\") == 3"
   ]
  },
  {
   "cell_type": "code",
   "execution_count": 9,
   "metadata": {},
   "outputs": [],
   "source": [
    "challenge_text = \"5994521226795838486188872189952551475352929145357284983463678944777228139398117649129843853837124228353689551178129353548331779783742915361343229141538334688254819714813664439268791978215553677772838853328835345484711229767477729948473391228776486456686265114875686536926498634495695692252159373971631543594656954494117149294648876661157534851938933954787612146436571183144494679952452325989212481219139686138139314915852774628718443532415524776642877131763359413822986619312862889689472397776968662148753187767793762654133429349515324333877787925465541588584988827136676376128887819161672467142579261995482731878979284573246533688835226352691122169847832943513758924194232345988726741789247379184319782387757613138742817826316376233443521857881678228694863681971445442663251423184177628977899963919997529468354953548612966699526718649132789922584524556697715133163376463256225181833257692821331665532681288216949451276844419154245423434141834913951854551253339785533395949815115622811565999252555234944554473912359674379862182425695187593452363724591541992766651311175217218144998691121856882973825162368564156726989939993412963536831593196997676992942673571336164535927371229823236937293782396318237879715612956317715187757397815346635454412183198642637577528632393813964514681344162814122588795865169788121655353319233798811796765852443424783552419541481132132344487835757888468196543736833342945718867855493422435511348343711311624399744482832385998592864795271972577548584967433917322296752992127719964453376414665576196829945664941856493768794911984537445227285657716317974649417586528395488789946689914972732288276665356179889783557481819454699354317555417691494844812852232551189751386484638428296871436139489616192954267794441256929783839652519285835238736142997245189363849356454645663151314124885661919451447628964996797247781196891787171648169427894282768776275689124191811751135567692313571663637214298625367655969575699851121381872872875774999172839521617845847358966264291175387374464425566514426499166813392768677233356646752273398541814142523651415521363267414564886379863699323887278761615927993953372779567675\""
   ]
  },
  {
   "cell_type": "code",
   "execution_count": 10,
   "metadata": {},
   "outputs": [
    {
     "data": {
      "text/plain": [
       "1393"
      ]
     },
     "execution_count": 10,
     "metadata": {},
     "output_type": "execute_result"
    }
   ],
   "source": [
    "sum_list(challenge_text)"
   ]
  },
  {
   "cell_type": "code",
   "execution_count": 11,
   "metadata": {},
   "outputs": [
    {
     "data": {
      "text/plain": [
       "1393"
      ]
     },
     "execution_count": 11,
     "metadata": {},
     "output_type": "execute_result"
    }
   ],
   "source": [
    "sum_string(challenge_text)"
   ]
  },
  {
   "cell_type": "code",
   "execution_count": 13,
   "metadata": {},
   "outputs": [],
   "source": [
    "def sum_list_middle(list):\n",
    "    int_list = convert_int_list(list)\n",
    "    number_items = len(int_list)\n",
    "    position = int(number_items/2)\n",
    "    matching_sum = 0\n",
    "    for i in range(number_items):\n",
    "        if int_list[0] == int_list[position]:\n",
    "            matching_sum += int_list[0]\n",
    "        \n",
    "        int_list = rotate(int_list,1)\n",
    "    return matching_sum"
   ]
  },
  {
   "cell_type": "code",
   "execution_count": 14,
   "metadata": {},
   "outputs": [],
   "source": [
    "assert sum_list_middle(\"1212\") == 6\n",
    "assert sum_list_middle(\"123425\") == 4"
   ]
  },
  {
   "cell_type": "code",
   "execution_count": 15,
   "metadata": {},
   "outputs": [
    {
     "data": {
      "text/plain": [
       "1292"
      ]
     },
     "execution_count": 15,
     "metadata": {},
     "output_type": "execute_result"
    }
   ],
   "source": [
    "sum_list_middle(challenge_text)"
   ]
  },
  {
   "cell_type": "markdown",
   "metadata": {},
   "source": [
    "### Day 2 part 1"
   ]
  },
  {
   "cell_type": "code",
   "execution_count": 16,
   "metadata": {},
   "outputs": [],
   "source": [
    "input_numbers = [[5,1,9,5],[7,5,3],[2,4,6,8]]"
   ]
  },
  {
   "cell_type": "code",
   "execution_count": 17,
   "metadata": {},
   "outputs": [],
   "source": [
    "def calculate_list_sum(list):\n",
    "    sum=0\n",
    "    for row in list:\n",
    "        sum += max(row) - min(row)\n",
    "    return sum"
   ]
  },
  {
   "cell_type": "code",
   "execution_count": 18,
   "metadata": {},
   "outputs": [],
   "source": [
    "def sum_min_max(input_numbers):\n",
    "    return sum(max(i) - min(i) for i in input_numbers)\n",
    "\n",
    "assert sum_min_max(input_numbers) == 18\n",
    "assert sum_min_max([[1,4],[1,3],[1,5]]) == 9\n",
    "assert sum_min_max([[0,4],[0,3],[0,5]]) == 12"
   ]
  },
  {
   "cell_type": "code",
   "execution_count": 19,
   "metadata": {},
   "outputs": [
    {
     "ename": "NameError",
     "evalue": "name 'sum_rows' is not defined",
     "output_type": "error",
     "traceback": [
      "\u001b[0;31m---------------------------------------------------------------------------\u001b[0m",
      "\u001b[0;31mNameError\u001b[0m                                 Traceback (most recent call last)",
      "\u001b[0;32m<ipython-input-19-ebd49b7637cd>\u001b[0m in \u001b[0;36m<module>\u001b[0;34m()\u001b[0m\n\u001b[1;32m      1\u001b[0m \u001b[0mtest2\u001b[0m \u001b[0;34m=\u001b[0m \u001b[0;34m[\u001b[0m\u001b[0;34m[\u001b[0m\u001b[0;36m5\u001b[0m\u001b[0;34m,\u001b[0m\u001b[0;36m9\u001b[0m\u001b[0;34m,\u001b[0m\u001b[0;36m2\u001b[0m\u001b[0;34m,\u001b[0m\u001b[0;36m8\u001b[0m\u001b[0;34m]\u001b[0m\u001b[0;34m,\u001b[0m\u001b[0;34m[\u001b[0m\u001b[0;36m9\u001b[0m\u001b[0;34m,\u001b[0m\u001b[0;36m4\u001b[0m\u001b[0;34m,\u001b[0m\u001b[0;36m7\u001b[0m\u001b[0;34m,\u001b[0m\u001b[0;36m3\u001b[0m\u001b[0;34m]\u001b[0m\u001b[0;34m,\u001b[0m\u001b[0;34m[\u001b[0m\u001b[0;36m3\u001b[0m\u001b[0;34m,\u001b[0m\u001b[0;36m8\u001b[0m\u001b[0;34m,\u001b[0m\u001b[0;36m6\u001b[0m\u001b[0;34m,\u001b[0m\u001b[0;36m5\u001b[0m\u001b[0;34m]\u001b[0m\u001b[0;34m]\u001b[0m\u001b[0;34m\u001b[0m\u001b[0m\n\u001b[0;32m----> 2\u001b[0;31m \u001b[0;32massert\u001b[0m \u001b[0msum_rows\u001b[0m\u001b[0;34m(\u001b[0m\u001b[0mtest2\u001b[0m\u001b[0;34m)\u001b[0m \u001b[0;34m==\u001b[0m \u001b[0;36m9\u001b[0m\u001b[0;34m\u001b[0m\u001b[0m\n\u001b[0m",
      "\u001b[0;31mNameError\u001b[0m: name 'sum_rows' is not defined"
     ]
    }
   ],
   "source": [
    "test2 = [[5,9,2,8],[9,4,7,3],[3,8,6,5]]\n",
    "assert sum_rows(test2) == 9"
   ]
  },
  {
   "cell_type": "code",
   "execution_count": null,
   "metadata": {},
   "outputs": [],
   "source": [
    "assert calculate_list_sum(input_numbers) == 18\n",
    "assert calculate_list_sum([[1,4],[1,3],[1,5]]) == 9\n",
    "assert calculate_list_sum([[0,4],[0,3],[0,5]]) == 12"
   ]
  },
  {
   "cell_type": "code",
   "execution_count": null,
   "metadata": {},
   "outputs": [],
   "source": [
    "import csv\n",
    "inputs = []\n",
    "with open('/root/2017-D1-p2.txt','r') as f:\n",
    "    reader=csv.reader(f,delimiter='\\t')\n",
    "    for x in reader:\n",
    "        inputs.append([int(i) for i in x])"
   ]
  },
  {
   "cell_type": "code",
   "execution_count": null,
   "metadata": {},
   "outputs": [],
   "source": [
    "calculate_list_sum(inputs)"
   ]
  },
  {
   "cell_type": "code",
   "execution_count": null,
   "metadata": {},
   "outputs": [],
   "source": [
    "sum_min_max(inputs)"
   ]
  },
  {
   "cell_type": "markdown",
   "metadata": {},
   "source": [
    "### Day 2 part 2"
   ]
  },
  {
   "cell_type": "code",
   "execution_count": null,
   "metadata": {},
   "outputs": [],
   "source": [
    "list2 = [[5,9,2,8]]\n",
    "from itertools import permutations\n",
    "def sum_evens(rows):\n",
    "    for row in rows:\n",
    "        test = permutations(row,2)\n",
    "        for x, y in test:\n",
    "            if x%y == 0:\n",
    "                yield x / y\n",
    "            \n",
    "def sum_rows(rows):\n",
    "    return sum(x for x in sum_evens(rows))\n",
    "\n",
    "sum_rows(list2)"
   ]
  },
  {
   "cell_type": "code",
   "execution_count": null,
   "metadata": {},
   "outputs": [],
   "source": [
    "def find_two_divisors(list):\n",
    "    sum = 0\n",
    "    for row in list:\n",
    "        for test_no in row:\n",
    "            rotate_list = row\n",
    "            for y in range(len(row)):\n",
    "                check_no = rotate(rotate_list,y+1)[0]\n",
    "                if (check_no != test_no) & (test_no % check_no == 0):\n",
    "                    sum += test_no / check_no\n",
    "    return sum"
   ]
  },
  {
   "cell_type": "code",
   "execution_count": null,
   "metadata": {},
   "outputs": [],
   "source": [
    "test1 = [[5,9,2,8]]\n",
    "assert find_two_divisors(test1) == 4"
   ]
  },
  {
   "cell_type": "code",
   "execution_count": null,
   "metadata": {},
   "outputs": [],
   "source": [
    "test2 = [[5,9,2,8],[9,4,7,3],[3,8,6,5]]\n",
    "assert find_two_divisors(test2) == 9"
   ]
  },
  {
   "cell_type": "code",
   "execution_count": null,
   "metadata": {},
   "outputs": [],
   "source": [
    "find_two_divisors(inputs)"
   ]
  },
  {
   "cell_type": "code",
   "execution_count": null,
   "metadata": {},
   "outputs": [],
   "source": [
    "sum_rows(inputs)"
   ]
  },
  {
   "cell_type": "markdown",
   "metadata": {
    "collapsed": true
   },
   "source": [
    "### Day 3 part 1"
   ]
  },
  {
   "cell_type": "code",
   "execution_count": null,
   "metadata": {},
   "outputs": [],
   "source": [
    "\"\"\"\n",
    "17  16  15  14  13\n",
    "18   5   4   3  12\n",
    "19   6   1   2  11\n",
    "20   7   8 3^2  10\n",
    "21  22  23  24 5^2\n",
    "..  ..  ..  ..  .. 7^2        \n",
    "\"\"\"\n",
    "\n",
    "import math \n",
    "\n",
    "input = 325489\n",
    "\n",
    "def side_length(number):\n",
    "    side = math.ceil(math.sqrt(number))\n",
    "    side = side if side % 2 != 0 else side + 1\n",
    "    return side\n",
    "\n",
    "def distance(input):\n",
    "    side = side_length(input)\n",
    "    print(\"side\",side)\n",
    "    steps_to_reach_center_from_axis = (side-1)/2\n",
    "    print(\"steps to center\", steps_to_reach_center_from_axis)\n",
    "    axises = [side**2 - ((side-1) * i)  - math.floor(side/2) for i in range(0, 4)]\n",
    "    print(\"axis\", axises)\n",
    "    steps_to_reach_axix_from_input = min([abs(axis - input) for axis in axises])\n",
    "    print(\"steps to axis from input\", steps_to_reach_axix_from_input)\n",
    "\n",
    "    return steps_to_reach_axix_from_input + steps_to_reach_center_from_axis\n",
    "\n",
    "assert distance(23) ==2\n",
    "assert distance(12) ==3\n",
    "print(side_length(12))"
   ]
  },
  {
   "cell_type": "code",
   "execution_count": null,
   "metadata": {},
   "outputs": [],
   "source": [
    "#find next square\n",
    "def find_next_squareroot(number):\n",
    "    while number % math.sqrt(number) !=0:\n",
    "        number += 1\n",
    "    return math.sqrt(number)\n",
    "\n",
    "print(find_next_squareroot(24))\n",
    "\n",
    "def find_distance(number):\n",
    "    next_square_root = find_next_squareroot(number)\n",
    "    next_square_root_dist = next_square_root - 1\n",
    "    distance_from_square_root = next_square_root**2 - number\n",
    "    return next_square_root_dist - distance_from_square_root\n",
    "\n",
    "print(find_next_squareroot(325489))"
   ]
  },
  {
   "cell_type": "code",
   "execution_count": null,
   "metadata": {},
   "outputs": [],
   "source": [
    "from itertools import count\n",
    "\n",
    "def sum_spiral():\n",
    "    a, i, j = {(0,0) : 1}, 0, 0\n",
    "    sn = lambda i,j: sum(a.get((k,l), 0) for k in range(i-1,i+2)\n",
    "                                         for l in range(j-1,j+2))\n",
    "    for s in count(1, 2):\n",
    "        for _ in range(s):   i += 1; a[i,j] = sn(i,j); yield a[i,j]\n",
    "        for _ in range(s):   j -= 1; a[i,j] = sn(i,j); yield a[i,j]\n",
    "        for _ in range(s+1): i -= 1; a[i,j] = sn(i,j); yield a[i,j]\n",
    "        for _ in range(s+1): j += 1; a[i,j] = sn(i,j); yield a[i,j]\n",
    "\n",
    "def part2(n):\n",
    "    for x in sum_spiral():\n",
    "        if x > n: return x"
   ]
  },
  {
   "cell_type": "code",
   "execution_count": null,
   "metadata": {},
   "outputs": [],
   "source": [
    "part2(325489)"
   ]
  },
  {
   "cell_type": "markdown",
   "metadata": {
    "collapsed": true
   },
   "source": [
    "### Day 4 part 1"
   ]
  },
  {
   "cell_type": "code",
   "execution_count": null,
   "metadata": {},
   "outputs": [],
   "source": [
    "import re\n",
    "\n",
    "def split_words(mystr):\n",
    "    return re.sub(\"[^\\w]\", \" \",  mystr).split()\n",
    "\n",
    "def is_passcode_valid(passcode):\n",
    "    seen_before = []\n",
    "    passcode_list = split_words(passcode)\n",
    "    for word in passcode_list:\n",
    "        if word in seen_before:\n",
    "            return False\n",
    "        seen_before.append(word)\n",
    "    return True\n",
    "\n",
    "def check_passcode(file):\n",
    "    valid = 0\n",
    "    for passcode in file:\n",
    "        if is_passcode_valid(passcode): valid +=1\n",
    "    return valid"
   ]
  },
  {
   "cell_type": "code",
   "execution_count": null,
   "metadata": {},
   "outputs": [],
   "source": [
    "assert is_passcode_valid(\"aa bb cc dd ee\") == True\n",
    "assert is_passcode_valid(\"aa bb cc dd aa\") == False\n",
    "assert is_passcode_valid(\"aa bb cc dd aaa\") == True\n",
    "assert check_passcode([\"aa bb cc dd ee\",\"aa bb cc dd aa\",\"aa bb cc dd aaa\"]) == 2"
   ]
  },
  {
   "cell_type": "code",
   "execution_count": null,
   "metadata": {},
   "outputs": [],
   "source": [
    "def is_passcode_valid2(passcode):\n",
    "    words = split_words(passcode)\n",
    "    return len(set(words)) == len(words)\n",
    "\n",
    "assert is_passcode_valid2(\"aa bb cc dd ee\") == True\n",
    "assert is_passcode_valid2(\"aa bb cc dd aa\") == False\n",
    "assert is_passcode_valid2(\"aa bb cc dd aaa\") == True"
   ]
  },
  {
   "cell_type": "code",
   "execution_count": null,
   "metadata": {},
   "outputs": [],
   "source": [
    "with open ('/root/2017-D4-p1.txt') as f:\n",
    "    lines = [line.strip() for line in f]"
   ]
  },
  {
   "cell_type": "code",
   "execution_count": null,
   "metadata": {},
   "outputs": [],
   "source": [
    "check_passcode(lines)"
   ]
  },
  {
   "cell_type": "markdown",
   "metadata": {},
   "source": [
    "### Day 4 part 2"
   ]
  },
  {
   "cell_type": "code",
   "execution_count": null,
   "metadata": {},
   "outputs": [],
   "source": [
    "def sort_word(s):\n",
    "    t = sorted(s)\n",
    "    t = ''.join(t)\n",
    "    return t\n",
    "\n",
    "def is_passcode_valid_anagram(passcode):\n",
    "    seen_before = []\n",
    "    passcode_list = split_words(passcode)\n",
    "    for word in passcode_list:\n",
    "        sorted_word = sort_word(word)\n",
    "        if sorted_word in seen_before:\n",
    "            return False\n",
    "        seen_before.append(sorted_word)\n",
    "    return True\n",
    "\n",
    "def check_passcode_anagram(file):\n",
    "    valid = 0\n",
    "    for passcode in file:\n",
    "        if is_passcode_valid_anagram(passcode): valid +=1\n",
    "    return valid"
   ]
  },
  {
   "cell_type": "code",
   "execution_count": null,
   "metadata": {},
   "outputs": [],
   "source": [
    "assert is_passcode_valid_anagram(\"abcde gbhij\") == True\n",
    "assert is_passcode_valid_anagram(\"abcde xyz ecdab\") == False\n",
    "assert is_passcode_valid_anagram(\"a ab abc abd abf adj\") == True"
   ]
  },
  {
   "cell_type": "code",
   "execution_count": null,
   "metadata": {},
   "outputs": [],
   "source": [
    "check_passcode_anagram(lines)"
   ]
  },
  {
   "cell_type": "code",
   "execution_count": null,
   "metadata": {},
   "outputs": [],
   "source": [
    "def quantify(iterable, pred=bool):\n",
    "    \"Count how many times the predicate is true.\"\n",
    "    return sum(map(pred, iterable))"
   ]
  },
  {
   "cell_type": "code",
   "execution_count": null,
   "metadata": {},
   "outputs": [],
   "source": [
    "quantify(lines,is_passcode_valid2)"
   ]
  },
  {
   "cell_type": "markdown",
   "metadata": {},
   "source": [
    "### Day 5 part 1"
   ]
  },
  {
   "cell_type": "code",
   "execution_count": null,
   "metadata": {},
   "outputs": [],
   "source": [
    "#(0) 3  0  1  -3  - before we have taken any steps.\n",
    "#(1) 3  0  1  -3  - jump with offset 0 (that is, don't jump at all). Fortunately, the instruction is then incremented to 1.\n",
    "# 2 (3) 0  1  -3  - step forward because of the instruction we just modified. The first instruction is incremented again, now to 2.\n",
    "# 2  4  0  1 (-3) - jump all the way to the end; leave a 4 behind.\n",
    "# 2 (4) 0  1  -2  - go back to where we just were; increment -3 to -2.\n",
    "# 2  5  0  1  -2  - jump 4 steps forward, escaping the maze."
   ]
  },
  {
   "cell_type": "code",
   "execution_count": null,
   "metadata": {},
   "outputs": [],
   "source": [
    "def jump(numbers):\n",
    "    pos= 0\n",
    "    count = 0\n",
    "    while True:\n",
    "        count +=1\n",
    "        instruction = numbers[pos]\n",
    "        numbers[pos] += 1\n",
    "        pos += instruction   \n",
    "        if pos >= len(numbers):\n",
    "            return count"
   ]
  },
  {
   "cell_type": "code",
   "execution_count": null,
   "metadata": {},
   "outputs": [],
   "source": [
    "numbers = [0,3,0,1,-3]\n",
    "jump(numbers)"
   ]
  },
  {
   "cell_type": "code",
   "execution_count": 26,
   "metadata": {},
   "outputs": [],
   "source": [
    "with open ('/root/2017-D5.txt') as f:\n",
    "    lines5 = [int(line.strip()) for line in f]"
   ]
  },
  {
   "cell_type": "code",
   "execution_count": null,
   "metadata": {},
   "outputs": [],
   "source": [
    "jump(lines5)"
   ]
  },
  {
   "cell_type": "markdown",
   "metadata": {},
   "source": [
    "### Day 5 part 2"
   ]
  },
  {
   "cell_type": "code",
   "execution_count": 23,
   "metadata": {},
   "outputs": [],
   "source": [
    "numbers = [0,3,0,1,-3]\n",
    "def jump2(numbers):\n",
    "    pos= 0\n",
    "    count = 0\n",
    "    while True:\n",
    "        count +=1\n",
    "        instruction = numbers[pos]\n",
    "        numbers[pos] += (-1 if instruction >= 3 else 1)\n",
    "        pos += instruction   \n",
    "        if pos >= len(numbers):\n",
    "            return count"
   ]
  },
  {
   "cell_type": "code",
   "execution_count": 24,
   "metadata": {},
   "outputs": [
    {
     "data": {
      "text/plain": [
       "10"
      ]
     },
     "execution_count": 24,
     "metadata": {},
     "output_type": "execute_result"
    }
   ],
   "source": [
    "jump2(numbers)"
   ]
  },
  {
   "cell_type": "code",
   "execution_count": 27,
   "metadata": {},
   "outputs": [
    {
     "data": {
      "text/plain": [
       "29227751"
      ]
     },
     "execution_count": 27,
     "metadata": {},
     "output_type": "execute_result"
    }
   ],
   "source": [
    "with open ('/root/2017-D5.txt') as f:\n",
    "    lines6 = [int(line.strip()) for line in f]\n",
    "jump2(lines6)"
   ]
  },
  {
   "cell_type": "markdown",
   "metadata": {},
   "source": [
    "## Day 6 part 1"
   ]
  },
  {
   "cell_type": "code",
   "execution_count": 38,
   "metadata": {},
   "outputs": [],
   "source": [
    "input = \"0\t5\t10\t0\t11\t14\t13\t4\t11\t8\t8\t7\t1\t4\t12\t11\""
   ]
  },
  {
   "cell_type": "code",
   "execution_count": 39,
   "metadata": {},
   "outputs": [],
   "source": [
    "import csv\n",
    "with open('/root/2017-D6.txt','r') as f:\n",
    "    reader=csv.reader(f,delimiter='\\t')\n",
    "    for x in reader:\n",
    "        inputs.append([int(i) for i in x])"
   ]
  },
  {
   "cell_type": "code",
   "execution_count": 70,
   "metadata": {},
   "outputs": [],
   "source": [
    "memory_bank = [0,2,7,0] #5 cycles"
   ]
  },
  {
   "cell_type": "code",
   "execution_count": 57,
   "metadata": {},
   "outputs": [],
   "source": [
    "def rotate_from(list, n, x):\n",
    "    return list[x+n:] + list[:x+n]"
   ]
  },
  {
   "cell_type": "code",
   "execution_count": 97,
   "metadata": {},
   "outputs": [
    {
     "name": "stdout",
     "output_type": "stream",
     "text": [
      "[3, 0, 1, 2]\n",
      "[0, 1, 2, 3]\n",
      "[0, 1, 2, 3]\n"
     ]
    }
   ],
   "source": [
    "test = [0,1,2,3]\n",
    "print(rotate_from(test,1,2))\n",
    "print(rotate_from(test,2,2))\n",
    "print(rotate_from(test,4,2))"
   ]
  },
  {
   "cell_type": "code",
   "execution_count": 102,
   "metadata": {},
   "outputs": [
    {
     "name": "stdout",
     "output_type": "stream",
     "text": [
      "3\n",
      "0\n",
      "1\n"
     ]
    }
   ],
   "source": [
    "def next_index(current, add, max):\n",
    "    index = current + add\n",
    "    if index >= max:\n",
    "        index = index - max\n",
    "    return index\n",
    "print(next_index(2,1,4))\n",
    "print(next_index(3,1,4))\n",
    "print(next_index(0,1,4))"
   ]
  },
  {
   "cell_type": "code",
   "execution_count": 49,
   "metadata": {},
   "outputs": [],
   "source": [
    "import operator\n",
    "def max_value(list):\n",
    "    index, value = max(enumerate(list), key=operator.itemgetter(1))\n",
    "    return index, value"
   ]
  },
  {
   "cell_type": "code",
   "execution_count": 55,
   "metadata": {},
   "outputs": [
    {
     "data": {
      "text/plain": [
       "2"
      ]
     },
     "execution_count": 55,
     "metadata": {},
     "output_type": "execute_result"
    }
   ],
   "source": [
    "max_index, max_bank = max_value(memory_bank)\n",
    "max_index"
   ]
  },
  {
   "cell_type": "code",
   "execution_count": 145,
   "metadata": {},
   "outputs": [],
   "source": [
    "memory_bank1 = [0,2,7,0]\n",
    "memory_bank = [0, 5, 10, 0, 11, 14, 13, 4, 11, 8, 8, 7, 1, 4, 12, 11]\n",
    "def cycle_blocks(memory_bank):\n",
    "    visited_state = []\n",
    "    count = 0\n",
    "    while True:\n",
    "        visited_state.append(memory_bank)\n",
    "        max_index, max_bank = max_value(memory_bank)\n",
    "        print(max_index, max_bank)\n",
    "        memory_bank[max_index] = 0 #remove all blocks\n",
    "        #print(memory_bank)\n",
    "        #allocates number in max bank out, starting at max_index_next\n",
    "        allocations = max_bank\n",
    "        rotate=1\n",
    "        next_bank = max_index\n",
    "        while allocations >0:\n",
    "            #rotate indexes\n",
    "            next_bank = next_index(next_bank,1,4)\n",
    "            memory_bank[next_bank] =memory_bank[next_bank]+ 1\n",
    "            print(memory_bank)\n",
    "            allocations = allocations -1\n",
    "        \n",
    "        if memory_bank in visited_state:\n",
    "            print(\"@\",visited_state)\n",
    "            return count\n",
    "        \n",
    "    return memory_bank"
   ]
  },
  {
   "cell_type": "code",
   "execution_count": 146,
   "metadata": {},
   "outputs": [
    {
     "name": "stdout",
     "output_type": "stream",
     "text": [
      "2 7\n",
      "[0, 2, 0, 1]\n",
      "[1, 2, 0, 1]\n",
      "[1, 3, 0, 1]\n",
      "[1, 3, 1, 1]\n",
      "[1, 3, 1, 2]\n",
      "[2, 3, 1, 2]\n",
      "[2, 4, 1, 2]\n",
      "@ [[2, 4, 1, 2]]\n"
     ]
    },
    {
     "data": {
      "text/plain": [
       "0"
      ]
     },
     "execution_count": 146,
     "metadata": {},
     "output_type": "execute_result"
    }
   ],
   "source": [
    "cycle_blocks(memory_bank1)"
   ]
  },
  {
   "cell_type": "code",
   "execution_count": 138,
   "metadata": {},
   "outputs": [
    {
     "data": {
      "text/plain": [
       "(0, 3)"
      ]
     },
     "execution_count": 138,
     "metadata": {},
     "output_type": "execute_result"
    }
   ],
   "source": [
    "list = [3,1,2,3]\n",
    "max_value(list)"
   ]
  },
  {
   "cell_type": "markdown",
   "metadata": {},
   "source": [
    "## Day 8"
   ]
  },
  {
   "cell_type": "code",
   "execution_count": 175,
   "metadata": {},
   "outputs": [
    {
     "data": {
      "text/plain": [
       "['b inc 5 if a > 1',\n",
       " 'a inc 1 if b < 5',\n",
       " 'c dec -10 if a >= 1',\n",
       " 'c inc -20 if c == 10']"
      ]
     },
     "execution_count": 175,
     "metadata": {},
     "output_type": "execute_result"
    }
   ],
   "source": [
    "instructions = ['b inc 5 if a > 1',\n",
    "'a inc 1 if b < 5',\n",
    "'c dec -10 if a >= 1',\n",
    "'c inc -20 if c == 10']\n",
    "instructions"
   ]
  },
  {
   "cell_type": "code",
   "execution_count": 181,
   "metadata": {},
   "outputs": [],
   "source": [
    "register = {}\n",
    "for instruction in instructions:\n",
    "    tokens = instruction.split(' ')\n",
    "    reg, commant, value, statment, lhs, condition, rhs = tokens\n",
    "    \n",
    "    eval()"
   ]
  },
  {
   "cell_type": "code",
   "execution_count": 178,
   "metadata": {},
   "outputs": [],
   "source": [
    "with open ('/root/2017-D8.txt') as f:\n",
    "    instructions = [line for line in f]"
   ]
  },
  {
   "cell_type": "code",
   "execution_count": 179,
   "metadata": {},
   "outputs": [
    {
     "name": "stdout",
     "output_type": "stream",
     "text": [
      "8022\n",
      "9819\n"
     ]
    }
   ],
   "source": [
    "from collections import *\n",
    "registers = defaultdict(int)\n",
    "t = 0\n",
    "for row in instructions:\n",
    "    bits = row.split()\n",
    "    assert bits[3] == 'if'\n",
    "\n",
    "    a, b, c, d, e, f, g = bits\n",
    "    if eval(e+f+g, {}, regs):\n",
    "        registers[a] += (-1 if b == 'dec' else 1) * int(c)\n",
    "\n",
    "    #part 2 - the highest value encountered.\n",
    "    t = max(t, max(registers.values()))\n",
    "\n",
    "print(max(regs.values()))\n",
    "print(t)"
   ]
  },
  {
   "cell_type": "markdown",
   "metadata": {},
   "source": [
    "## Day 9"
   ]
  },
  {
   "cell_type": "code",
   "execution_count": 198,
   "metadata": {},
   "outputs": [],
   "source": [
    "import re\n",
    "f= open ('/root/2017-D9.txt') \n",
    "text1 = f.read()              # Read text\n",
    "text2 = re.sub(r'!.', '', text1)     # Delete canceled characters\n",
    "text3 = re.sub(r'<.*?>', '', text2)  # Delete garbage"
   ]
  },
  {
   "cell_type": "code",
   "execution_count": 196,
   "metadata": {},
   "outputs": [
    {
     "data": {
      "text/plain": [
       "12803"
      ]
     },
     "execution_count": 196,
     "metadata": {},
     "output_type": "execute_result"
    }
   ],
   "source": [
    "def total_score(text):\n",
    "    \"Total of group scores; each group scores one more than the group it is nested in.\"\n",
    "    total = 0\n",
    "    outer = [0] # Stack of scores of groups nested outside current group\n",
    "    for c in text:\n",
    "        if c == '{':\n",
    "            score = outer[-1] + 1\n",
    "            total += score\n",
    "            outer.append(score)\n",
    "        elif c == '}':\n",
    "            outer.pop()\n",
    "    return total\n",
    "\n",
    "total_score(text3)"
   ]
  },
  {
   "cell_type": "code",
   "execution_count": 197,
   "metadata": {},
   "outputs": [
    {
     "data": {
      "text/plain": [
       "6425"
      ]
     },
     "execution_count": 197,
     "metadata": {},
     "output_type": "execute_result"
    }
   ],
   "source": [
    "text4 = re.sub(r'<.*?>', '<>', text2)  # Delete inner garbage\n",
    "\n",
    "len(text2) - len(text4)"
   ]
  },
  {
   "cell_type": "markdown",
   "metadata": {},
   "source": [
    "## Day 10"
   ]
  },
  {
   "cell_type": "code",
   "execution_count": 213,
   "metadata": {},
   "outputs": [],
   "source": [
    "inst = [3,4,1,5]\n",
    "my_list = [0,1,2,3,4]"
   ]
  },
  {
   "cell_type": "code",
   "execution_count": 214,
   "metadata": {},
   "outputs": [
    {
     "name": "stdout",
     "output_type": "stream",
     "text": [
      "[4, 3, 2, 1, 0]\n"
     ]
    }
   ],
   "source": [
    "reversed = my_list[::-1]\n",
    "print(reversed)"
   ]
  },
  {
   "cell_type": "code",
   "execution_count": 216,
   "metadata": {},
   "outputs": [],
   "source": [
    "def rotate_from(list, n, frm):\n",
    "    return list[n+frm:] + list[:n+frm]"
   ]
  },
  {
   "cell_type": "code",
   "execution_count": 221,
   "metadata": {},
   "outputs": [
    {
     "name": "stdout",
     "output_type": "stream",
     "text": [
      "[0, 4, 3, 2, 1]\n"
     ]
    }
   ],
   "source": [
    "print(rotate_from(reversed, 0, 4))"
   ]
  },
  {
   "cell_type": "code",
   "execution_count": 237,
   "metadata": {},
   "outputs": [
    {
     "data": {
      "text/plain": [
       "tuple"
      ]
     },
     "execution_count": 237,
     "metadata": {},
     "output_type": "execute_result"
    }
   ],
   "source": [
    "input = (120,93,0,90,5,80,129,74,1,165,204,255,254,2,50,113)\n",
    "type(input)"
   ]
  },
  {
   "cell_type": "code",
   "execution_count": 282,
   "metadata": {},
   "outputs": [],
   "source": [
    "def knothash(lengths, N=256, verbose=False):\n",
    "    \"Do a reversal for each of the numbers in `lengths`.\"\n",
    "    nums = [*range(N)]\n",
    "    pos = skip = 0\n",
    "    for L in lengths:\n",
    "        nums = rev(nums, pos, L)\n",
    "        if verbose: print(nums)\n",
    "        pos = (pos + L + skip) % N\n",
    "        skip += 1\n",
    "    return nums[0] * nums[1]\n",
    "        \n",
    "def rev(nums, pos, L):\n",
    "    \"Reverse nums[pos:pos+L], handling wrap-around.\"\n",
    "    # Move first pos elements to end, reverse first L, move pos elements back\n",
    "    nums = nums[pos:] + nums[:pos]\n",
    "    nums[:L] = nums[:L][::-1]\n",
    "    nums = nums[-pos:] + nums[:-pos]\n",
    "    return nums"
   ]
  },
  {
   "cell_type": "code",
   "execution_count": 284,
   "metadata": {},
   "outputs": [
    {
     "data": {
      "text/plain": [
       "[2, 1, 0, 3, 4]"
      ]
     },
     "execution_count": 284,
     "metadata": {},
     "output_type": "execute_result"
    }
   ],
   "source": [
    "#knothash(input)\n",
    "my_list = [*range(5)]\n",
    "x = my_list[:3][::-1]\n",
    "rev([*range(5)], 0, 3)"
   ]
  },
  {
   "cell_type": "code",
   "execution_count": 285,
   "metadata": {},
   "outputs": [
    {
     "data": {
      "text/plain": [
       "826"
      ]
     },
     "execution_count": 285,
     "metadata": {},
     "output_type": "execute_result"
    }
   ],
   "source": [
    "knothash(input)"
   ]
  },
  {
   "cell_type": "code",
   "execution_count": 244,
   "metadata": {},
   "outputs": [
    {
     "data": {
      "text/plain": [
       "[0, 1, 2, 3, 4, 5, 6, 7, 8, 9]"
      ]
     },
     "execution_count": 244,
     "metadata": {},
     "output_type": "execute_result"
    }
   ],
   "source": [
    "nums = [*range(10)]\n",
    "nums"
   ]
  },
  {
   "cell_type": "code",
   "execution_count": 292,
   "metadata": {},
   "outputs": [
    {
     "ename": "SyntaxError",
     "evalue": "invalid syntax (<ipython-input-292-7d1e16290856>, line 5)",
     "output_type": "error",
     "traceback": [
      "\u001b[0;36m  File \u001b[0;32m\"<ipython-input-292-7d1e16290856>\"\u001b[0;36m, line \u001b[0;32m5\u001b[0m\n\u001b[0;31m    def knothash2(lengthstr, N=256, rounds=64, suffix=(17, 31, 73, 47, 23),verbose=False):\u001b[0m\n\u001b[0m      ^\u001b[0m\n\u001b[0;31mSyntaxError\u001b[0m\u001b[0;31m:\u001b[0m invalid syntax\n"
     ]
    }
   ],
   "source": [
    "def mapt(fn, *args): \n",
    "    \"Do a map, and make the results into a tuple.\"\n",
    "    return tuple(map(fn, *args)\n",
    "\n",
    "def knothash2(lengthstr, N=256, rounds=64, suffix=(17, 31, 73, 47, 23),verbose=False):\n",
    "    nums = [*range(N)]\n",
    "    lengths = mapt(ord, lengthstr) + suffix\n",
    "    pos = skip = 0\n",
    "    for round in range(rounds):\n",
    "        for L in lengths:\n",
    "            nums = rev(nums, pos, L)\n",
    "            if verbose: print(nums)\n",
    "            pos = (pos + L + skip) % N\n",
    "            skip += 1\n",
    "    return hexstr(dense_hash(nums))\n",
    "\n",
    "def hexstr(nums): \n",
    "    \"Convert a sequence of (0 to 255) ints into a hex str.\"\n",
    "    return cat(map('{:02x}'.format, nums))\n",
    "    \n",
    "def dense_hash(nums, blocksize=16): \n",
    "    \"XOR each block of nums, return the list of them.\"\n",
    "    return [XOR(block) for block in grouper(nums, blocksize)]\n",
    "\n",
    "def XOR(nums):\n",
    "    \"Exclusive-or all the numbers together.\"\n",
    "    result = 0\n",
    "    for n in nums:\n",
    "        result ^= n\n",
    "    return result\n",
    "    \n",
    "assert XOR([65, 27, 9, 1, 4, 3, 40, 50, 91, 7, 6, 0, 2, 5, 68, 22]) == 64\n",
    "\n",
    "assert knothash2('') == 'a2582a3a0e66e6e86e3812dcb672a272'"
   ]
  },
  {
   "cell_type": "code",
   "execution_count": null,
   "metadata": {},
   "outputs": [],
   "source": [
    "input = '120,93,0,90,5,80,129,74,1,165,204,255,254,2,50,113'\n",
    "knothash2(stream2)"
   ]
  },
  {
   "cell_type": "code",
   "execution_count": null,
   "metadata": {},
   "outputs": [],
   "source": []
  },
  {
   "cell_type": "code",
   "execution_count": null,
   "metadata": {},
   "outputs": [],
   "source": []
  },
  {
   "cell_type": "code",
   "execution_count": null,
   "metadata": {},
   "outputs": [],
   "source": []
  }
 ],
 "metadata": {
  "kernelspec": {
   "display_name": "Python 3",
   "language": "python",
   "name": "python3"
  },
  "language_info": {
   "codemirror_mode": {
    "name": "ipython",
    "version": 3
   },
   "file_extension": ".py",
   "mimetype": "text/x-python",
   "name": "python",
   "nbconvert_exporter": "python",
   "pygments_lexer": "ipython3",
   "version": "3.6.4"
  }
 },
 "nbformat": 4,
 "nbformat_minor": 2
}
