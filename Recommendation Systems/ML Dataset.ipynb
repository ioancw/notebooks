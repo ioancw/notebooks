{
 "cells": [
  {
   "cell_type": "code",
   "execution_count": null,
   "metadata": {},
   "outputs": [],
   "source": [
    "import pandas as pd\n",
    "from collections import defaultdict"
   ]
  },
  {
   "cell_type": "code",
   "execution_count": null,
   "metadata": {},
   "outputs": [],
   "source": [
    "#uncomment below for first time usage, then comment out.\n",
    "#!curl -O http://files.grouplens.org/datasets/movielens/ml-latest-small.zip\n",
    "#!unzip ml-latest-small.zip\n",
    "\n",
    "#!curl -O http://files.grouplens.org/datasets/movielens/ml-latest.zip\n",
    "#!unzip ml-latest.zip"
   ]
  },
  {
   "cell_type": "code",
   "execution_count": null,
   "metadata": {},
   "outputs": [],
   "source": [
    "cd ml-latest-small"
   ]
  },
  {
   "cell_type": "code",
   "execution_count": null,
   "metadata": {},
   "outputs": [],
   "source": [
    "my_ratings = pd.read_csv(r\"../movielens-ratings.csv\")\n",
    "my_ratings.drop(['title','average_rating','imdb_id','tmdb_id'],axis=1,inplace=True)\n",
    "my_ratings['userId'] = 251276\n",
    "my_ratings.rename(columns={'movie_id': 'movieId'}, inplace=True)\n",
    "my_ratings.head()"
   ]
  },
  {
   "cell_type": "code",
   "execution_count": null,
   "metadata": {},
   "outputs": [],
   "source": [
    "ratings = pd.read_csv(r\"ratings.csv\")\n",
    "ratings.drop('timestamp',axis=1,inplace=True)\n",
    "print(ratings.dtypes)\n",
    "ratings.head()"
   ]
  },
  {
   "cell_type": "code",
   "execution_count": null,
   "metadata": {},
   "outputs": [],
   "source": [
    "#union my ratings and official ratings\n",
    "all_ratings = pd.concat([ratings,my_ratings], sort=True)\n",
    "all_ratings.tail()"
   ]
  },
  {
   "cell_type": "code",
   "execution_count": null,
   "metadata": {},
   "outputs": [],
   "source": [
    "movies = pd.read_csv(r\"movies.csv\")\n",
    "print(len(movies))\n",
    "movies.head()"
   ]
  },
  {
   "cell_type": "code",
   "execution_count": null,
   "metadata": {},
   "outputs": [],
   "source": [
    "def load_movie_lens_data(lens_movies, ratings):\n",
    "    movies={}\n",
    "    for _, row in lens_movies.iterrows():\n",
    "        movies[row[\"movieId\"]] = row[\"title\"]\n",
    "    \n",
    "    prefs=defaultdict(dict)\n",
    "    for _, row in ratings.iterrows():\n",
    "        if row[\"movieId\"] in movies:\n",
    "            prefs[row[\"userId\"]][movies[row[\"movieId\"]]] = float(row[\"rating\"])\n",
    "    return prefs"
   ]
  },
  {
   "cell_type": "code",
   "execution_count": null,
   "metadata": {},
   "outputs": [],
   "source": [
    "x = load_movie_lens_data(movies, all_ratings)"
   ]
  },
  {
   "cell_type": "code",
   "execution_count": null,
   "metadata": {},
   "outputs": [],
   "source": [
    "from math import sqrt\n",
    "def sim_pearson(prefs,o1,o2):\n",
    "    # Get the list of mutually rated items\n",
    "    si={}\n",
    "    for item in prefs[o1]:\n",
    "        if item in prefs[o2]: \n",
    "            si[item]=1\n",
    "    \n",
    "    # Find the number of elements\n",
    "    n=len(si)\n",
    "    # if they are no ratings in common, return 0\n",
    "    if n==0: \n",
    "        return 0\n",
    "    \n",
    "    # Add up all the preferences\n",
    "    sum1=sum([prefs[o1][it] for it in si])\n",
    "    sum2=sum([prefs[o2][it] for it in si])\n",
    "    \n",
    "    # Sum up the squares\n",
    "    sum1Sq=sum([pow(prefs[o1][it],2) for it in si])\n",
    "    sum2Sq=sum([pow(prefs[o2][it],2) for it in si])\n",
    "    \n",
    "    # Sum up the products\n",
    "    pSum=sum([prefs[o1][it]*prefs[o2][it] for it in si])\n",
    "    # Calculate Pearson score\n",
    "    num=pSum-(sum1*sum2/n)\n",
    "    den=sqrt((sum1Sq-pow(sum1,2)/n)*(sum2Sq-pow(sum2,2)/n))\n",
    "    if den==0: \n",
    "        return 0\n",
    "    \n",
    "    r=num/den\n",
    "    return r\n",
    "\n",
    "def sim_distance(prefs,o1,o2):\n",
    "    # Get the list of shared_items\n",
    "    si={}\n",
    "    for item in prefs[o1]:\n",
    "        if item in prefs[o2]:\n",
    "            si[item]=1\n",
    "\n",
    "    # if they have no ratings in common, return 0\n",
    "    if len(si)==0: \n",
    "        return 0\n",
    "    # Add up the squares of all the differences\n",
    "    sum_of_squares=sum([pow(prefs[o1][item]-prefs[o2][item],2) for item in prefs[o1] if item in prefs[o2]])\n",
    "    \n",
    "    return 1/(1+sum_of_squares)\n",
    "\n",
    "def sim_jaccard(prefs,o1,o2):\n",
    "\n",
    "    count=0\n",
    "    for item in prefs[o1]:\n",
    "        if item in prefs[o2]:\n",
    "            count+=1\n",
    "\n",
    "    n1=len(prefs[o1])\n",
    "    n2=len(prefs[o2])\n",
    "    count=float(count)\n",
    "\n",
    "    r=float(count/(n1+n2-count))\n",
    "\n",
    "    return r\n",
    "\n",
    "def sim_cosine(prefs,o1,o2):\n",
    "    list={}\n",
    "    num=0\n",
    "    den=0\n",
    "    for item in prefs[o1]:\n",
    "        if item in prefs[o2]:\n",
    "            list[item]=1\n",
    "            num+=prefs[o1][item]*prefs[o2][item]\n",
    "\n",
    "    if num==0:\n",
    "        return 0\n",
    "\n",
    "    den= pow( sum(pow(prefs[o1][item],2) for item in list)*sum(pow(prefs[o2][item],2) for item in list) , 0.5 )\n",
    "    num=float(num)\n",
    "\n",
    "    return num/den"
   ]
  },
  {
   "cell_type": "code",
   "execution_count": null,
   "metadata": {},
   "outputs": [],
   "source": [
    "def getRecommendations(prefs,person,similarity=sim_pearson):\n",
    "    totals={}\n",
    "    simSums={}\n",
    "    for other in prefs:\n",
    "        # don't compare me to myself\n",
    "        if other==person: \n",
    "            continue\n",
    "        sim=similarity(prefs,person,other)\n",
    "        # ignore scores of zero or lower\n",
    "        if sim<=0: \n",
    "            continue\n",
    "        for item in prefs[other]:\n",
    "            # only score movies I haven't seen yet\n",
    "            if item not in prefs[person] or prefs[person][item]==0:\n",
    "                # Similarity * Score\n",
    "                totals.setdefault(item,0)\n",
    "                totals[item]+=prefs[other][item]*sim\n",
    "                # Sum of similarities\n",
    "                simSums.setdefault(item,0)\n",
    "                simSums[item]+=sim\n",
    "    \n",
    "    # Create the normalized list\n",
    "    rankings=[(total/simSums[item],item) for item,total in totals.items( )]\n",
    "    # Return the sorted list\n",
    "    rankings.sort( )\n",
    "    rankings.reverse( )\n",
    "    return rankings"
   ]
  },
  {
   "cell_type": "code",
   "execution_count": null,
   "metadata": {},
   "outputs": [],
   "source": [
    "getRecommendations(x, 251276)[0:10]"
   ]
  },
  {
   "cell_type": "code",
   "execution_count": null,
   "metadata": {},
   "outputs": [],
   "source": [
    "len(x['251276'])"
   ]
  },
  {
   "cell_type": "code",
   "execution_count": null,
   "metadata": {},
   "outputs": [],
   "source": [
    "y = x[251276]\n",
    "for z in y.keys():\n",
    "    print(z,\":\",y[z])"
   ]
  },
  {
   "cell_type": "code",
   "execution_count": null,
   "metadata": {},
   "outputs": [],
   "source": [
    "getRecommendations(x, 251276,similarity=sim_cosine)[0:10]"
   ]
  },
  {
   "cell_type": "code",
   "execution_count": null,
   "metadata": {},
   "outputs": [],
   "source": [
    "def getRecommendedItems(prefs,itemMatch,user):\n",
    "    userRatings=prefs[user]\n",
    "    scores={}\n",
    "    totalSim={}\n",
    "\n",
    "    # Loop over items rated by this user\n",
    "    for (item,rating) in userRatings.items():\n",
    "        # Loop over items similar to this one\n",
    "        for (similarity,item2) in itemMatch[item]:\n",
    "            # Ignore if this user has already rated this item\n",
    "            if item2 in userRatings: continue\n",
    "            # Weighted sum of rating times similarity\n",
    "            scores.setdefault(item2,0)\n",
    "            scores[item2]+=similarity*rating\n",
    "            # Sum of all the similarities\n",
    "            totalSim.setdefault(item2,0)\n",
    "            totalSim[item2]+=similarity\n",
    "    # Divide each total score by total weighting to get an average\n",
    "    rankings=[(round(score/totalSim[item],1),item) for item,score in scores.items( ) if totalSim[item] !=0]\n",
    "    # Return the rankings from highest to lowest\n",
    "    rankings.sort( )\n",
    "    rankings.reverse( )\n",
    "    return rankings\n",
    "\n",
    "def calculateSimilarItems(prefs,n=10):\n",
    "    # Create a dictionary of items showing which other items they\n",
    "    # are most similar to.\n",
    "    result={}\n",
    "    # Invert the preference matrix to be item-centric\n",
    "    itemPrefs=transformPrefs(prefs)\n",
    "    c=0\n",
    "    for item in itemPrefs:\n",
    "        # Status updates for large datasets\n",
    "        c+=1\n",
    "        if c%1000==0: print(\"%d / %d\" % (c,len(itemPrefs)))\n",
    "        # Find the most similar items to this one\n",
    "        scores=topMatches(itemPrefs,item,n=n,similarity=sim_pearson)\n",
    "        result[item]=scores\n",
    "    return result\n",
    "\n",
    "def transformPrefs(prefs):\n",
    "    result={}\n",
    "    for person in prefs:\n",
    "        for item in prefs[person]:\n",
    "            result.setdefault(item,{})\n",
    "            # Flip item and person\n",
    "            result[item][person]=prefs[person][item]\n",
    "    return result\n",
    "\n",
    "# Returns the best matches for person from the prefs dictionary.\n",
    "# Number of results and similarity function are optional params.\n",
    "def topMatches(prefs,person,n=5,similarity=sim_pearson):\n",
    "    scores=[(similarity(prefs,person,other),other) for other in prefs if other!=person]\n",
    "    # Sort the list so the highest scores appear at the top\n",
    "    scores.sort( )\n",
    "    scores.reverse( )\n",
    "    return scores[0:n]"
   ]
  },
  {
   "cell_type": "code",
   "execution_count": null,
   "metadata": {},
   "outputs": [],
   "source": [
    "for user in x:\n",
    "    if user == 15.0:\n",
    "        print(\"user: \",user)\n",
    "        ratings = x[user]\n",
    "        for a, b in ratings.items():\n",
    "            print(\"*\",a,\":\",b)"
   ]
  },
  {
   "cell_type": "code",
   "execution_count": null,
   "metadata": {},
   "outputs": [],
   "source": [
    "for user in x:\n",
    "    ratings = x[user]\n",
    "    print(\"user: \",user,\":\",\"number: \", len(ratings))"
   ]
  },
  {
   "cell_type": "code",
   "execution_count": null,
   "metadata": {},
   "outputs": [],
   "source": [
    "itemsim=calculateSimilarItems(x,n=50)"
   ]
  },
  {
   "cell_type": "code",
   "execution_count": null,
   "metadata": {},
   "outputs": [],
   "source": [
    "itemPrefs=transformPrefs(x)\n",
    "print(len(itemPrefs))\n",
    "for item in itemPrefs:\n",
    "    ratings = itemPrefs[item]\n",
    "    print(\"Movie:\",item,\":\",\"Ratings:\", len(ratings))"
   ]
  },
  {
   "cell_type": "code",
   "execution_count": null,
   "metadata": {},
   "outputs": [],
   "source": [
    "item = \"Spice World (1997)\"\n",
    "ratings = itemPrefs[item]\n",
    "scores=[(sim_pearson(itemPrefs,item,other),other) for other in itemPrefs if other!=item]\n",
    "# Sort the list so the highest scores appear at the top\n",
    "scores.sort( )\n",
    "scores.reverse( )\n",
    "scores"
   ]
  },
  {
   "cell_type": "code",
   "execution_count": null,
   "metadata": {},
   "outputs": [],
   "source": [
    "item = \"Spice World (1997)\"\n",
    "print(itemPrefs[item])\n",
    "item = \"Zack and Miri Make a Porno (2008)\"\n",
    "print(itemPrefs[item])"
   ]
  },
  {
   "cell_type": "code",
   "execution_count": null,
   "metadata": {},
   "outputs": [],
   "source": [
    "p1 = \"Spice World (1997)\"\n",
    "p2 = \"Zack and Miri Make a Porno (2008)\"\n",
    "si={}\n",
    "for item in itemPrefs[p1]:\n",
    "    if item in itemPrefs[p2]: \n",
    "        si[item]=1\n",
    "\n",
    "x=[itemPrefs[p1][it] for it in si]\n",
    "y=[itemPrefs[p2][it] for it in si]\n",
    "print(x)\n",
    "print(y)\n",
    "plt.scatter(x, y)\n",
    "plt.show()"
   ]
  },
  {
   "cell_type": "code",
   "execution_count": null,
   "metadata": {},
   "outputs": [],
   "source": [
    "%matplotlib inline\n",
    "x, y = list(itemPrefs[\"Spice World (1997)\"].keys()), list(itemPrefs[\"Spice World (1997)\"].values())\n",
    "import seaborn as sns;\n",
    "sns.set()\n",
    "import matplotlib as mpl\n",
    "mpl.rcParams['font.family'] = 'serif'\n",
    "import matplotlib.pyplot as plt\n",
    "#fig, ax = plt.subplots(figsize=(16, 9))  # lets do wide screen ratio\n",
    "#ax.plot(x,y);\n",
    "plt.scatter(x, y)\n",
    "plt.show()"
   ]
  },
  {
   "cell_type": "code",
   "execution_count": null,
   "metadata": {},
   "outputs": [],
   "source": [
    "%matplotlib inline\n",
    "x, y = list(itemPrefs[\"Zack and Miri Make a Porno (2008)\"].keys()), list(itemPrefs[\"Zack and Miri Make a Porno (2008)\"].values())\n",
    "import seaborn as sns;\n",
    "sns.set()\n",
    "import matplotlib as mpl\n",
    "mpl.rcParams['font.family'] = 'serif'\n",
    "import matplotlib.pyplot as plt\n",
    "#fig, ax = plt.subplots(figsize=(16, 9))  # lets do wide screen ratio\n",
    "#ax.plot(x,y);\n",
    "plt.scatter(x, y)\n",
    "plt.show()"
   ]
  },
  {
   "cell_type": "code",
   "execution_count": null,
   "metadata": {},
   "outputs": [],
   "source": [
    "getRecommendedItems(x,itemsim,251276)[0:30]"
   ]
  },
  {
   "cell_type": "code",
   "execution_count": null,
   "metadata": {},
   "outputs": [],
   "source": [
    "userRatings=x[251276]\n",
    "scores={}\n",
    "totalSim={}\n",
    "\n",
    "# Loop over items rated by this user\n",
    "for (item,rating) in userRatings.items():\n",
    "    #if item != 'The Blair Witch Project':\n",
    "    #    continue\n",
    "    print(item,\":\", rating)\n",
    "    # Loop over items similar to this one\n",
    "    for (similarity,item2) in itemsim[item]:\n",
    "        # Ignore if this user has already rated this item\n",
    "        if item2 in userRatings: \n",
    "            continue\n",
    "        print(\"*\",round(similarity,1),\":\", item2)\n",
    "        # Weighted sum of rating times similarity\n",
    "        scores.setdefault(item2,0)\n",
    "        scores[item2]+=similarity*rating\n",
    "        # Sum of all the similarities\n",
    "        totalSim.setdefault(item2,0)\n",
    "        totalSim[item2]+=similarity\n",
    "\n",
    "#for item,score in scores.items():\n",
    "#    print('$',item,\":\", score,\":\",totalSim[item])\n",
    "#    print('$$',item,\":\", score/totalSim[item])\n",
    "        \n",
    "# Divide each total score by total weighting to get an average\n",
    "rankings=[(round(score/totalSim[item],1),item) for item,score in scores.items() if totalSim[item] !=0]\n",
    "\n",
    "rankings.sort( )\n",
    "rankings.reverse( )"
   ]
  },
  {
   "cell_type": "code",
   "execution_count": null,
   "metadata": {},
   "outputs": [],
   "source": [
    "from sklearn import cross_validation as cv\n",
    "train_data, test_data = cv.train_test_split(all_ratings, test_size=0.2)\n",
    "len(train_data), len(test_data)"
   ]
  },
  {
   "cell_type": "code",
   "execution_count": null,
   "metadata": {},
   "outputs": [],
   "source": [
    "# Create two user-item matrices, one for training and another for testing\n",
    "train_data_matrix = train_data.as_matrix(columns = ['userId', 'movieId', 'rating'])\n",
    "test_data_matrix = test_data.as_matrix(columns = ['userId', 'movieId', 'rating'])\n",
    "len(train_data_matrix), len(test_data_matrix)"
   ]
  },
  {
   "cell_type": "code",
   "execution_count": null,
   "metadata": {},
   "outputs": [],
   "source": [
    "# Item Similarity Matrix\n",
    "import numpy as np\n",
    "from sklearn.metrics.pairwise import pairwise_distances\n",
    "item_correlation = 1 - pairwise_distances(train_data_matrix, metric='correlation')\n",
    "item_correlation[np.isnan(item_correlation)] = 0\n",
    "len(item_correlation)\n",
    "item_correlation\n",
    "type(train_data_matrix)"
   ]
  },
  {
   "cell_type": "code",
   "execution_count": null,
   "metadata": {},
   "outputs": [],
   "source": [
    "# Function to predict ratings\n",
    "def predict(ratings, similarity):\n",
    "    mean_user_rating = ratings.mean(axis=1)\n",
    "    # Use np.newaxis so that mean_user_rating has same format as ratings\n",
    "    ratings_diff = (ratings - mean_user_rating[:, np.newaxis])\n",
    "    pred = mean_user_rating[:, np.newaxis] + similarity.dot(ratings_diff) / np.array([np.abs(similarity).sum(axis=1)]).T\n",
    "    return pred"
   ]
  },
  {
   "cell_type": "code",
   "execution_count": null,
   "metadata": {},
   "outputs": [],
   "source": [
    "item_prediction = predict(train_data_matrix, item_correlation)"
   ]
  },
  {
   "cell_type": "code",
   "execution_count": null,
   "metadata": {},
   "outputs": [],
   "source": []
  }
 ],
 "metadata": {
  "kernelspec": {
   "display_name": "Python 3",
   "language": "python",
   "name": "python3"
  },
  "language_info": {
   "codemirror_mode": {
    "name": "ipython",
    "version": 3
   },
   "file_extension": ".py",
   "mimetype": "text/x-python",
   "name": "python",
   "nbconvert_exporter": "python",
   "pygments_lexer": "ipython3",
   "version": "3.6.6"
  }
 },
 "nbformat": 4,
 "nbformat_minor": 2
}
