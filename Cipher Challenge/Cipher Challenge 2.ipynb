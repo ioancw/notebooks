{
 "cells": [
  {
   "cell_type": "code",
   "execution_count": 1,
   "metadata": {},
   "outputs": [
    {
     "data": {
      "text/plain": [
       "'MHILY LZA ZBHL XBPZXBL MVYABUHL HWWPBZ JSHBKPBZ JHLJBZ KPJABT HYJHUBT LZA ULBAYVU'"
      ]
     },
     "execution_count": 1,
     "metadata": {},
     "output_type": "execute_result"
    }
   ],
   "source": [
    "cipher_text = open('/root/Cipher2.txt').read()\n",
    "cipher_text"
   ]
  },
  {
   "cell_type": "code",
   "execution_count": 2,
   "metadata": {},
   "outputs": [
    {
     "name": "stdout",
     "output_type": "stream",
     "text": [
      "MHILY LZA ZBHL XBPZXBL MVYABUHL HWWPBZ JSHBKPBZ JHLJBZ KPJABT HYJHUBT LZA ULBAYVU\n",
      "lghkx kyz yagk waoywak luxzatgk gvvoay irgajoay igkiay joizas gxigtas kyz tkazxut\n",
      "kfgjw jxy xzfj vznxvzj ktwyzsfj fuunzx hqfzinzx hfjhzx inhyzr fwhfszr jxy sjzywts\n",
      "jefiv iwx wyei uymwuyi jsvxyrei ettmyw gpeyhmyw geigyw hmgxyq evgeryq iwx riyxvsr\n",
      "idehu hvw vxdh txlvtxh iruwxqdh dsslxv fodxglxv fdhfxv glfwxp dufdqxp hvw qhxwurq\n",
      "hcdgt guv uwcg swkuswg hqtvwpcg crrkwu encwfkwu ecgewu fkevwo ctecpwo guv pgwvtqp\n",
      "gbcfs ftu tvbf rvjtrvf gpsuvobf bqqjvt dmbvejvt dbfdvt ejduvn bsdbovn ftu ofvuspo\n",
      "faber est suae quisque fortunae appius claudius caecus dictum arcanum est neutron\n",
      "ezadq drs rtzd pthrptd enqstmzd zoohtr bkztchtr bzdbtr chbstl zqbzmtl drs mdtsqnm\n",
      "dyzcp cqr qsyc osgqosc dmprslyc ynngsq ajysbgsq aycasq bgarsk ypaylsk cqr lcsrpml\n",
      "cxybo bpq prxb nrfpnrb cloqrkxb xmmfrp zixrafrp zxbzrp afzqrj xozxkrj bpq kbrqolk\n",
      "bwxan aop oqwa mqeomqa bknpqjwa wlleqo yhwqzeqo ywayqo zeypqi wnywjqi aop jaqpnkj\n",
      "avwzm zno npvz lpdnlpz ajmopivz vkkdpn xgvpydpn xvzxpn ydxoph vmxviph zno izpomji\n",
      "zuvyl ymn mouy kocmkoy zilnohuy ujjcom wfuoxcom wuywom xcwnog ulwuhog ymn hyonlih\n",
      "ytuxk xlm lntx jnbljnx yhkmngtx tiibnl vetnwbnl vtxvnl wbvmnf tkvtgnf xlm gxnmkhg\n",
      "xstwj wkl kmsw imakimw xgjlmfsw shhamk udsmvamk uswumk vaulme sjusfme wkl fwmljgf\n",
      "wrsvi vjk jlrv hlzjhlv wfiklerv rggzlj tcrluzlj trvtlj uztkld ritreld vjk evlkife\n",
      "vqruh uij ikqu gkyigku vehjkdqu qffyki sbqktyki squski tysjkc qhsqdkc uij dukjhed\n",
      "upqtg thi hjpt fjxhfjt udgijcpt peexjh rapjsxjh rptrjh sxrijb pgrpcjb thi ctjigdc\n",
      "topsf sgh gios eiwgeis tcfhibos oddwig qzoirwig qosqig rwqhia ofqobia sgh bsihfcb\n",
      "snore rfg fhnr dhvfdhr sbeghanr nccvhf pynhqvhf pnrphf qvpghz nepnahz rfg arhgeba\n",
      "rmnqd qef egmq cguecgq radfgzmq mbbuge oxmgpuge omqoge puofgy mdomzgy qef zqgfdaz\n",
      "qlmpc pde dflp bftdbfp qzcefylp laatfd nwlfotfd nlpnfd otnefx lcnlyfx pde ypfeczy\n",
      "pklob ocd ceko aescaeo pybdexko kzzsec mvkensec mkomec nsmdew kbmkxew ocd xoedbyx\n",
      "ojkna nbc bdjn zdrbzdn oxacdwjn jyyrdb lujdmrdb ljnldb mrlcdv jaljwdv nbc wndcaxw\n",
      "nijmz mab acim ycqaycm nwzbcvim ixxqca kticlqca kimkca lqkbcu izkivcu mab vmcbzwv\n",
      "mhily lza zbhl xbpzxbl mvyabuhl hwwpbz jshbkpbz jhljbz kpjabt hyjhubt lza ulbayvu\n"
     ]
    }
   ],
   "source": [
    "import string\n",
    "alphabet = list(string.ascii_lowercase)\n",
    "shift_alphabet = list(string.ascii_uppercase)\n",
    "print(cipher_text)\n",
    "\n",
    "for _ in range(26):\n",
    "    shift_alphabet = shift_alphabet[1:] + shift_alphabet[:1]\n",
    "    key = zip(shift_alphabet, alphabet)\n",
    "    plain_text = cipher_text\n",
    "    for x, y in key:\n",
    "        plain_text = plain_text.replace(x,y)\n",
    "        \n",
    "    print(plain_text)"
   ]
  },
  {
   "cell_type": "code",
   "execution_count": 3,
   "metadata": {
    "collapsed": true
   },
   "outputs": [],
   "source": [
    "import pandas as pd"
   ]
  },
  {
   "cell_type": "code",
   "execution_count": 10,
   "metadata": {},
   "outputs": [],
   "source": [
    "import nltk"
   ]
  },
  {
   "cell_type": "code",
   "execution_count": 8,
   "metadata": {},
   "outputs": [
    {
     "name": "stdout",
     "output_type": "stream",
     "text": [
      "[range(0, 10)]\n"
     ]
    }
   ],
   "source": [
    "print(bob)"
   ]
  },
  {
   "cell_type": "code",
   "execution_count": null,
   "metadata": {
    "collapsed": true
   },
   "outputs": [],
   "source": []
  },
  {
   "cell_type": "code",
   "execution_count": null,
   "metadata": {
    "collapsed": true
   },
   "outputs": [],
   "source": []
  },
  {
   "cell_type": "code",
   "execution_count": null,
   "metadata": {
    "collapsed": true
   },
   "outputs": [],
   "source": []
  }
 ],
 "metadata": {
  "kernelspec": {
   "display_name": "Python 3",
   "language": "python",
   "name": "python3"
  },
  "language_info": {
   "codemirror_mode": {
    "name": "ipython",
    "version": 3
   },
   "file_extension": ".py",
   "mimetype": "text/x-python",
   "name": "python",
   "nbconvert_exporter": "python",
   "pygments_lexer": "ipython3",
   "version": "3.6.3"
  }
 },
 "nbformat": 4,
 "nbformat_minor": 2
}
