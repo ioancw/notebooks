{
 "cells": [
  {
   "cell_type": "code",
   "execution_count": 37,
   "metadata": {
    "collapsed": true
   },
   "outputs": [],
   "source": [
    "quandl_api_key = 'pgwBY8TJ2Csv1xb2mBwZ'\n",
    "import quandl as q\n",
    "import pandas as pd\n",
    "%matplotlib inline"
   ]
  },
  {
   "cell_type": "code",
   "execution_count": 38,
   "metadata": {
    "collapsed": true
   },
   "outputs": [],
   "source": [
    "import seaborn as sb; sb.set()"
   ]
  },
  {
   "cell_type": "code",
   "execution_count": 39,
   "metadata": {
    "collapsed": true
   },
   "outputs": [],
   "source": [
    "data = q.get('LSE/ITV', api_key = quandl_api_key)"
   ]
  },
  {
   "cell_type": "code",
   "execution_count": 40,
   "metadata": {},
   "outputs": [
    {
     "name": "stdout",
     "output_type": "stream",
     "text": [
      "<class 'pandas.core.frame.DataFrame'>\n",
      "DatetimeIndex: 2839 entries, 2006-03-16 to 2017-06-23\n",
      "Data columns (total 7 columns):\n",
      "Price         2839 non-null float64\n",
      "High          816 non-null float64\n",
      "Low           816 non-null float64\n",
      "Volume        2837 non-null float64\n",
      "Last Close    2824 non-null float64\n",
      "Change        816 non-null float64\n",
      "Var%          472 non-null float64\n",
      "dtypes: float64(7)\n",
      "memory usage: 177.4 KB\n"
     ]
    }
   ],
   "source": [
    "data.info()"
   ]
  },
  {
   "cell_type": "code",
   "execution_count": 41,
   "metadata": {},
   "outputs": [
    {
     "data": {
      "text/html": [
       "<div>\n",
       "<style>\n",
       "    .dataframe thead tr:only-child th {\n",
       "        text-align: right;\n",
       "    }\n",
       "\n",
       "    .dataframe thead th {\n",
       "        text-align: left;\n",
       "    }\n",
       "\n",
       "    .dataframe tbody tr th {\n",
       "        vertical-align: top;\n",
       "    }\n",
       "</style>\n",
       "<table border=\"1\" class=\"dataframe\">\n",
       "  <thead>\n",
       "    <tr style=\"text-align: right;\">\n",
       "      <th></th>\n",
       "      <th>Price</th>\n",
       "      <th>High</th>\n",
       "      <th>Low</th>\n",
       "      <th>Volume</th>\n",
       "      <th>Last Close</th>\n",
       "      <th>Change</th>\n",
       "      <th>Var%</th>\n",
       "    </tr>\n",
       "    <tr>\n",
       "      <th>Date</th>\n",
       "      <th></th>\n",
       "      <th></th>\n",
       "      <th></th>\n",
       "      <th></th>\n",
       "      <th></th>\n",
       "      <th></th>\n",
       "      <th></th>\n",
       "    </tr>\n",
       "  </thead>\n",
       "  <tbody>\n",
       "    <tr>\n",
       "      <th>2017-06-19</th>\n",
       "      <td>177.6</td>\n",
       "      <td>180.5</td>\n",
       "      <td>177.2</td>\n",
       "      <td>8988619.0</td>\n",
       "      <td>177.6</td>\n",
       "      <td>-1.2</td>\n",
       "      <td>-0.67</td>\n",
       "    </tr>\n",
       "    <tr>\n",
       "      <th>2017-06-20</th>\n",
       "      <td>175.8</td>\n",
       "      <td>179.0</td>\n",
       "      <td>175.6</td>\n",
       "      <td>12512778.0</td>\n",
       "      <td>175.8</td>\n",
       "      <td>-1.8</td>\n",
       "      <td>-1.01</td>\n",
       "    </tr>\n",
       "    <tr>\n",
       "      <th>2017-06-21</th>\n",
       "      <td>178.5</td>\n",
       "      <td>178.7</td>\n",
       "      <td>175.4</td>\n",
       "      <td>12719082.0</td>\n",
       "      <td>178.5</td>\n",
       "      <td>2.7</td>\n",
       "      <td>1.54</td>\n",
       "    </tr>\n",
       "    <tr>\n",
       "      <th>2017-06-22</th>\n",
       "      <td>176.9</td>\n",
       "      <td>178.5</td>\n",
       "      <td>176.7</td>\n",
       "      <td>8646393.0</td>\n",
       "      <td>176.9</td>\n",
       "      <td>-1.6</td>\n",
       "      <td>-0.90</td>\n",
       "    </tr>\n",
       "    <tr>\n",
       "      <th>2017-06-23</th>\n",
       "      <td>182.8</td>\n",
       "      <td>183.0</td>\n",
       "      <td>179.7</td>\n",
       "      <td>17125140.0</td>\n",
       "      <td>182.8</td>\n",
       "      <td>5.9</td>\n",
       "      <td>3.34</td>\n",
       "    </tr>\n",
       "  </tbody>\n",
       "</table>\n",
       "</div>"
      ],
      "text/plain": [
       "            Price   High    Low      Volume  Last Close  Change  Var%\n",
       "Date                                                                 \n",
       "2017-06-19  177.6  180.5  177.2   8988619.0       177.6    -1.2 -0.67\n",
       "2017-06-20  175.8  179.0  175.6  12512778.0       175.8    -1.8 -1.01\n",
       "2017-06-21  178.5  178.7  175.4  12719082.0       178.5     2.7  1.54\n",
       "2017-06-22  176.9  178.5  176.7   8646393.0       176.9    -1.6 -0.90\n",
       "2017-06-23  182.8  183.0  179.7  17125140.0       182.8     5.9  3.34"
      ]
     },
     "execution_count": 41,
     "metadata": {},
     "output_type": "execute_result"
    }
   ],
   "source": [
    "data.tail()"
   ]
  },
  {
   "cell_type": "code",
   "execution_count": 42,
   "metadata": {
    "collapsed": true
   },
   "outputs": [],
   "source": [
    "LSE_ITV = data['Price']"
   ]
  },
  {
   "cell_type": "code",
   "execution_count": 43,
   "metadata": {},
   "outputs": [
    {
     "data": {
      "text/plain": [
       "<matplotlib.axes._subplots.AxesSubplot at 0x7ff1b9e95be0>"
      ]
     },
     "execution_count": 43,
     "metadata": {},
     "output_type": "execute_result"
    },
    {
     "name": "stderr",
     "output_type": "stream",
     "text": [
      "/root/miniconda3/lib/python3.6/site-packages/matplotlib/font_manager.py:1297: UserWarning: findfont: Font family ['sans-serif'] not found. Falling back to DejaVu Sans\n",
      "  (prop.get_family(), self.defaultFamily[fontext]))\n"
     ]
    },
    {
     "data": {
      "image/png": "[encoded data removed]",
      "text/plain": [
       "<matplotlib.figure.Figure at 0x7ff1b9e86c88>"
      ]
     },
     "metadata": {},
     "output_type": "display_data"
    }
   ],
   "source": [
    "LSE_ITV.plot()"
   ]
  },
  {
   "cell_type": "code",
   "execution_count": 44,
   "metadata": {},
   "outputs": [
    {
     "data": {
      "text/html": [
       "<div>\n",
       "<style>\n",
       "    .dataframe thead tr:only-child th {\n",
       "        text-align: right;\n",
       "    }\n",
       "\n",
       "    .dataframe thead th {\n",
       "        text-align: left;\n",
       "    }\n",
       "\n",
       "    .dataframe tbody tr th {\n",
       "        vertical-align: top;\n",
       "    }\n",
       "</style>\n",
       "<table border=\"1\" class=\"dataframe\">\n",
       "  <thead>\n",
       "    <tr style=\"text-align: right;\">\n",
       "      <th></th>\n",
       "      <th>LSE/DAILY_TRADES</th>\n",
       "      <th>Daily Order Book Trading Analysis</th>\n",
       "    </tr>\n",
       "  </thead>\n",
       "  <tbody>\n",
       "    <tr>\n",
       "      <th>5500</th>\n",
       "      <td>LSE/RDLC</td>\n",
       "      <td>RANGER DLF C share price (RDLC), Currency GBX</td>\n",
       "    </tr>\n",
       "    <tr>\n",
       "      <th>5501</th>\n",
       "      <td>LSE/OMXS</td>\n",
       "      <td>OMX STCKHLM CP ETF price (OMXS), Currency GBX</td>\n",
       "    </tr>\n",
       "    <tr>\n",
       "      <th>5502</th>\n",
       "      <td>LSE/BST</td>\n",
       "      <td>BIG SOFA TECH share price (BST), Currency GBX</td>\n",
       "    </tr>\n",
       "    <tr>\n",
       "      <th>5503</th>\n",
       "      <td>LSE/IWG</td>\n",
       "      <td>IWG share price (IWG), Currency GBX</td>\n",
       "    </tr>\n",
       "    <tr>\n",
       "      <th>5504</th>\n",
       "      <td>LSE/SYNC</td>\n",
       "      <td>SYNCONA share price (SYNC), Currency GBX</td>\n",
       "    </tr>\n",
       "  </tbody>\n",
       "</table>\n",
       "</div>"
      ],
      "text/plain": [
       "     LSE/DAILY_TRADES              Daily Order Book Trading Analysis\n",
       "5500         LSE/RDLC  RANGER DLF C share price (RDLC), Currency GBX\n",
       "5501         LSE/OMXS  OMX STCKHLM CP ETF price (OMXS), Currency GBX\n",
       "5502          LSE/BST  BIG SOFA TECH share price (BST), Currency GBX\n",
       "5503          LSE/IWG            IWG share price (IWG), Currency GBX\n",
       "5504         LSE/SYNC       SYNCONA share price (SYNC), Currency GBX"
      ]
     },
     "execution_count": 44,
     "metadata": {},
     "output_type": "execute_result"
    }
   ],
   "source": [
    "lse_codes = pd.read_csv('/root/LSE-datasets-codes.csv')\n",
    "lse_codes.tail()"
   ]
  },
  {
   "cell_type": "code",
   "execution_count": 45,
   "metadata": {
    "collapsed": true
   },
   "outputs": [],
   "source": [
    "list = lse_codes[0:3]"
   ]
  },
  {
   "cell_type": "code",
   "execution_count": 46,
   "metadata": {
    "collapsed": true
   },
   "outputs": [],
   "source": [
    "x = list['LSE/DAILY_TRADES'].items()"
   ]
  },
  {
   "cell_type": "code",
   "execution_count": null,
   "metadata": {
    "collapsed": true
   },
   "outputs": [],
   "source": []
  },
  {
   "cell_type": "code",
   "execution_count": null,
   "metadata": {
    "collapsed": true
   },
   "outputs": [],
   "source": []
  }
 ],
 "metadata": {
  "kernelspec": {
   "display_name": "Python 3",
   "language": "python",
   "name": "python3"
  },
  "language_info": {
   "codemirror_mode": {
    "name": "ipython",
    "version": 3
   },
   "file_extension": ".py",
   "mimetype": "text/x-python",
   "name": "python",
   "nbconvert_exporter": "python",
   "pygments_lexer": "ipython3",
   "version": "3.6.1"
  }
 },
 "nbformat": 4,
 "nbformat_minor": 2
}
