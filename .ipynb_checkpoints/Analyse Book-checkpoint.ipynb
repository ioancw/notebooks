{
 "cells": [
  {
   "cell_type": "markdown",
   "metadata": {},
   "source": [
    "Code to analyse the book Emma"
   ]
  },
  {
   "cell_type": "code",
   "execution_count": 1,
   "metadata": {},
   "outputs": [],
   "source": [
    "import string"
   ]
  },
  {
   "cell_type": "code",
   "execution_count": 2,
   "metadata": {},
   "outputs": [],
   "source": [
    "def process_line(line, hist):\n",
    "    line = line.replace('-',' ')\n",
    "    \n",
    "    for word in line.split():\n",
    "        word = word.strip(string.punctuation + string.whitespace)\n",
    "        word = word.lower() \n",
    "        hist[word] = hist.get(word, 0) + 1"
   ]
  },
  {
   "cell_type": "code",
   "execution_count": 3,
   "metadata": {},
   "outputs": [],
   "source": [
    "def process_file(filename):\n",
    "    hist = {}\n",
    "    fp = open(filename)\n",
    "    \n",
    "    for line in fp:\n",
    "        process_line(line, hist)\n",
    "    return hist"
   ]
  },
  {
   "cell_type": "code",
   "execution_count": 4,
   "metadata": {},
   "outputs": [],
   "source": [
    "def subtract(d1, d2):\n",
    "    res = {}\n",
    "    for key in d1:\n",
    "        if key not in d2:\n",
    "            res[key] = None\n",
    "    return res"
   ]
  },
  {
   "cell_type": "code",
   "execution_count": 5,
   "metadata": {},
   "outputs": [],
   "source": [
    "def most_common(hist):\n",
    "    t = []\n",
    "    for key, value in hist.items():\n",
    "        t.append((value, key))\n",
    "    t.sort()\n",
    "    t.reverse()\n",
    "    return t"
   ]
  },
  {
   "cell_type": "code",
   "execution_count": 6,
   "metadata": {},
   "outputs": [
    {
     "name": "stdout",
     "output_type": "stream",
     "text": [
      "the \t 5353\n",
      "to \t 5301\n",
      "and \t 4888\n",
      "of \t 4396\n",
      "a \t 3170\n",
      "i \t 2848\n",
      "her \t 2443\n",
      "it \t 2407\n",
      "was \t 2394\n",
      "she \t 2334\n",
      "in \t 2233\n",
      "not \t 2144\n",
      "be \t 1982\n",
      "you \t 1896\n",
      "he \t 1770\n",
      "that \t 1765\n",
      "had \t 1622\n",
      "as \t 1434\n",
      "but \t 1361\n",
      "for \t 1354\n",
      "have \t 1311\n",
      "with \t 1260\n",
      "is \t 1251\n",
      "very \t 1171\n",
      "his \t 1143\n"
     ]
    }
   ],
   "source": [
    "hist = process_file('emma.txt')\n",
    "t = most_common(hist)\n",
    "for freq, word in t[:25]:\n",
    "    print(word, '\\t', freq)"
   ]
  },
  {
   "cell_type": "code",
   "execution_count": null,
   "metadata": {
    "collapsed": true
   },
   "outputs": [],
   "source": []
  }
 ],
 "metadata": {
  "kernelspec": {
   "display_name": "Python 3",
   "language": "python",
   "name": "python3"
  },
  "language_info": {
   "codemirror_mode": {
    "name": "ipython",
    "version": 3
   },
   "file_extension": ".py",
   "mimetype": "text/x-python",
   "name": "python",
   "nbconvert_exporter": "python",
   "pygments_lexer": "ipython3",
   "version": "3.6.6"
  }
 },
 "nbformat": 4,
 "nbformat_minor": 2
}
