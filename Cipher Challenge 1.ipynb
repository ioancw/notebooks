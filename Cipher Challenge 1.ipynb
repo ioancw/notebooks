{
 "cells": [
  {
   "cell_type": "code",
   "execution_count": 1,
   "metadata": {},
   "outputs": [
    {
     "name": "stdout",
     "output_type": "stream",
     "text": [
      "BT JPX RMLX PCUV AMLX ICVJP IBTWXVR CI M LMT’R PMTN, MTN YVCJX CDXV MWMBTRJ JPX AMTNGXRJBAH UQCT JPX QGMRJXV CI JPX YMGG CI JPX HBTW’R QMGMAX; MTN JPX HBTW RMY JPX QMVJ CI JPX PMTN JPMJ YVCJX. JPXT JPX HBTW’R ACUTJXTMTAX YMR APMTWXN, MTN PBR JPCUWPJR JVCUFGXN PBL, RC JPMJ JPX SCBTJR CI PBR GCBTR YXVX GCCRXN, MTN PBR HTXXR RLCJX CTX MWMBTRJ MTCJPXV. JPX HBTW AVBXN MGCUN JC FVBTW BT JPX MRJVCGCWXVR, JPX APMGNXMTR, MTN JPX RCCJPRMEXVR. MTN JPX HBTW RQMHX, MTN RMBN JC JPX YBRX LXT CI FMFEGCT, YPCRCXDXV RPMGG VXMN JPBR YVBJBTW, MTN RPCY LX JPX BTJXVQVXJMJBCT JPXVXCI, RPMGG FX AGCJPXN YBJP RAM\n"
     ]
    }
   ],
   "source": [
    "file = open(r'/root/Cipher1.txt')\n",
    "cipher_text = file.read()\n",
    "print(cipher_text)\n",
    "from collections import Counter\n",
    "analysis = Counter(cipher_text)"
   ]
  },
  {
   "cell_type": "code",
   "execution_count": 122,
   "metadata": {},
   "outputs": [
    {
     "data": {
      "text/plain": [
       "[(' ', 106),\n",
       " ('X', 56),\n",
       " ('J', 49),\n",
       " ('M', 44),\n",
       " ('P', 42),\n",
       " ('T', 40),\n",
       " ('C', 37),\n",
       " ('R', 36),\n",
       " ('B', 27),\n",
       " ('V', 22),\n",
       " ('N', 20),\n",
       " ('G', 17),\n",
       " ('W', 13),\n",
       " ('A', 11),\n",
       " ('Y', 11),\n",
       " (',', 10),\n",
       " ('I', 9),\n",
       " ('H', 8),\n",
       " ('L', 7),\n",
       " ('U', 6),\n",
       " ('Q', 6),\n",
       " ('F', 5),\n",
       " ('’', 3),\n",
       " ('.', 3),\n",
       " ('D', 2),\n",
       " ('E', 2),\n",
       " (';', 1),\n",
       " ('S', 1)]"
      ]
     },
     "execution_count": 122,
     "metadata": {},
     "output_type": "execute_result"
    }
   ],
   "source": [
    "freq_analysis = analysis.most_common()\n",
    "freq_analysis"
   ]
  },
  {
   "cell_type": "code",
   "execution_count": 127,
   "metadata": {
    "collapsed": true
   },
   "outputs": [],
   "source": [
    "#how to limit to alphabetic characters\n",
    "import string\n",
    "alphabet = list(string.ascii_uppercase)\n",
    "\n",
    "cipher_cleaned = []\n",
    "for freq in freq_analysis:\n",
    "    if freq[0] in alphabet:\n",
    "        cipher_cleaned.append(freq)"
   ]
  },
  {
   "cell_type": "code",
   "execution_count": 128,
   "metadata": {},
   "outputs": [
    {
     "data": {
      "text/plain": [
       "[('X', 56),\n",
       " ('J', 49),\n",
       " ('M', 44),\n",
       " ('P', 42),\n",
       " ('T', 40),\n",
       " ('C', 37),\n",
       " ('R', 36),\n",
       " ('B', 27),\n",
       " ('V', 22),\n",
       " ('N', 20),\n",
       " ('G', 17),\n",
       " ('W', 13),\n",
       " ('A', 11),\n",
       " ('Y', 11),\n",
       " ('I', 9),\n",
       " ('H', 8),\n",
       " ('L', 7),\n",
       " ('U', 6),\n",
       " ('Q', 6),\n",
       " ('F', 5),\n",
       " ('D', 2),\n",
       " ('E', 2),\n",
       " ('S', 1)]"
      ]
     },
     "execution_count": 128,
     "metadata": {},
     "output_type": "execute_result"
    }
   ],
   "source": [
    "cipher_cleaned"
   ]
  },
  {
   "cell_type": "code",
   "execution_count": 129,
   "metadata": {
    "collapsed": true
   },
   "outputs": [],
   "source": [
    "english_freq_table = ['e','t','a','o','i','n','s','r','h','d','l','u','c','m','f','y','w','g',\n",
    "                      'p','b','v','k','x','q','j','z']"
   ]
  },
  {
   "cell_type": "code",
   "execution_count": 130,
   "metadata": {
    "collapsed": true
   },
   "outputs": [],
   "source": [
    "combined = zip(cipher_cleaned,english_freq_table)"
   ]
  },
  {
   "cell_type": "code",
   "execution_count": 131,
   "metadata": {},
   "outputs": [
    {
     "name": "stdout",
     "output_type": "stream",
     "text": [
      "('X', 56) e\n",
      "('J', 49) t\n",
      "('M', 44) a\n",
      "('P', 42) o\n",
      "('T', 40) i\n",
      "('C', 37) n\n",
      "('R', 36) s\n",
      "('B', 27) r\n",
      "('V', 22) h\n",
      "('N', 20) d\n",
      "('G', 17) l\n",
      "('W', 13) u\n",
      "('A', 11) c\n",
      "('Y', 11) m\n",
      "('I', 9) f\n",
      "('H', 8) y\n",
      "('L', 7) w\n",
      "('U', 6) g\n",
      "('Q', 6) p\n",
      "('F', 5) b\n",
      "('D', 2) v\n",
      "('E', 2) k\n",
      "('S', 1) x\n"
     ]
    }
   ],
   "source": [
    "plain_text = cipher_text\n",
    "key = {}\n",
    "for x, y in combined:\n",
    "    print(x,y)\n",
    "    key[x[0]] = y\n",
    "    plain_text = plain_text.replace(x[0],y)"
   ]
  },
  {
   "cell_type": "code",
   "execution_count": 132,
   "metadata": {},
   "outputs": [
    {
     "data": {
      "text/plain": [
       "'ri toe sawe ongh cawe fnhto friuehs nf a wai’s oaid, aid mhnte nveh auarist toe caidlestrcy gpni toe plasteh nf toe mall nf toe yriu’s palace; aid toe yriu sam toe paht nf toe oaid toat mhnte. toei toe yriu’s cngiteiaice mas coaiued, aid ors tonguots thngbled orw, sn toat toe xnrits nf ors lnris mehe lnnsed, aid ors yiees swnte nie auarist aintoeh. toe yriu chred alngd tn bhriu ri toe asthnlnuehs, toe coaldeais, aid toe snntosakehs. aid toe yriu spaye, aid sard tn toe mrse wei nf babklni, monsneveh soall head tors mhrtriu, aid sonm we toe ritehphetatrni toehenf, soall be clntoed mrto sca'"
      ]
     },
     "execution_count": 132,
     "metadata": {},
     "output_type": "execute_result"
    }
   ],
   "source": [
    "plain_text"
   ]
  },
  {
   "cell_type": "code",
   "execution_count": 133,
   "metadata": {},
   "outputs": [
    {
     "data": {
      "text/plain": [
       "{'A': 'c',\n",
       " 'B': 'r',\n",
       " 'C': 'n',\n",
       " 'D': 'v',\n",
       " 'E': 'k',\n",
       " 'F': 'b',\n",
       " 'G': 'l',\n",
       " 'H': 'y',\n",
       " 'I': 'f',\n",
       " 'J': 't',\n",
       " 'L': 'w',\n",
       " 'M': 'a',\n",
       " 'N': 'd',\n",
       " 'P': 'o',\n",
       " 'Q': 'p',\n",
       " 'R': 's',\n",
       " 'S': 'x',\n",
       " 'T': 'i',\n",
       " 'U': 'g',\n",
       " 'V': 'h',\n",
       " 'W': 'u',\n",
       " 'X': 'e',\n",
       " 'Y': 'm'}"
      ]
     },
     "execution_count": 133,
     "metadata": {},
     "output_type": "execute_result"
    }
   ],
   "source": [
    "key"
   ]
  },
  {
   "cell_type": "code",
   "execution_count": 135,
   "metadata": {
    "collapsed": true
   },
   "outputs": [],
   "source": [
    "#adding guesses back in\n",
    "key['P'] = 'h'\n",
    "key['V'] = 'o'\n",
    "key['B'] = 'i'\n",
    "key['T'] = 'n'\n",
    "key['C'] = 'r'\n",
    "key['L'] = 'm'\n",
    "key['Y'] = 'w'\n",
    "key['C'] = 'o'\n",
    "key['V'] = 'r'\n",
    "key['W'] = 'g'\n",
    "key['U'] = 'u'\n",
    "key['H'] = 'k'\n",
    "key['E'] = 'y'\n",
    "key['S'] = 'j'"
   ]
  },
  {
   "cell_type": "code",
   "execution_count": 136,
   "metadata": {
    "collapsed": true
   },
   "outputs": [],
   "source": [
    "plain_text2 = cipher_text\n",
    "for ct in key:\n",
    "    plain_text2 = plain_text2.replace(ct,key[ct])"
   ]
  },
  {
   "cell_type": "code",
   "execution_count": 137,
   "metadata": {},
   "outputs": [
    {
     "data": {
      "text/plain": [
       "'in the same hour came forth fingers of a man’s hand, and wrote over against the candlestick upon the plaster of the wall of the king’s palace; and the king saw the part of the hand that wrote. then the king’s countenance was changed, and his thoughts troubled him, so that the joints of his loins were loosed, and his knees smote one against another. the king cried aloud to bring in the astrologers, the chaldeans, and the soothsayers. and the king spake, and said to the wise men of babylon, whosoever shall read this writing, and show me the interpretation thereof, shall be clothed with sca'"
      ]
     },
     "execution_count": 137,
     "metadata": {},
     "output_type": "execute_result"
    }
   ],
   "source": [
    "plain_text2"
   ]
  },
  {
   "cell_type": "code",
   "execution_count": null,
   "metadata": {
    "collapsed": true
   },
   "outputs": [],
   "source": []
  }
 ],
 "metadata": {
  "kernelspec": {
   "display_name": "Python 3",
   "language": "python",
   "name": "python3"
  },
  "language_info": {
   "codemirror_mode": {
    "name": "ipython",
    "version": 3
   },
   "file_extension": ".py",
   "mimetype": "text/x-python",
   "name": "python",
   "nbconvert_exporter": "python",
   "pygments_lexer": "ipython3",
   "version": "3.6.3"
  }
 },
 "nbformat": 4,
 "nbformat_minor": 2
}
