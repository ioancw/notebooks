{
 "cells": [
  {
   "cell_type": "code",
   "execution_count": 1,
   "metadata": {},
   "outputs": [],
   "source": [
    "import numpy as np\n",
    "from numpy import genfromtxt"
   ]
  },
  {
   "cell_type": "markdown",
   "metadata": {},
   "source": [
    "The purose of this analysis, is to time matrix like operations on relatively large matrices, e.g. 1000 rows by 2300 colummsn."
   ]
  },
  {
   "cell_type": "code",
   "execution_count": 2,
   "metadata": {},
   "outputs": [
    {
     "name": "stdout",
     "output_type": "stream",
     "text": [
      "J: (1100, 2294)\n"
     ]
    }
   ],
   "source": [
    "J = genfromtxt('/root/matrix-large.csv', delimiter=',')\n",
    "print('J:', J.shape)"
   ]
  },
  {
   "cell_type": "markdown",
   "metadata": {},
   "source": [
    "We multiply the transpose of J by J."
   ]
  },
  {
   "cell_type": "code",
   "execution_count": 4,
   "metadata": {},
   "outputs": [
    {
     "name": "stdout",
     "output_type": "stream",
     "text": [
      "J_SVD: (2294, 2294)\n",
      "CPU times: user 424 ms, sys: 24 ms, total: 448 ms\n",
      "Wall time: 449 ms\n"
     ]
    }
   ],
   "source": [
    "%%time\n",
    "jacobian_SVD = np.dot(J.T,J)\n",
    "print('J_SVD:', jacobian_SVD.shape)"
   ]
  },
  {
   "cell_type": "code",
   "execution_count": 6,
   "metadata": {},
   "outputs": [
    {
     "name": "stdout",
     "output_type": "stream",
     "text": [
      "CPU times: user 4.22 s, sys: 80 ms, total: 4.3 s\n",
      "Wall time: 4.35 s\n"
     ]
    }
   ],
   "source": [
    "%%time\n",
    "J_eigenvecs, J_eigenvals = np.linalg.eigh(jacobian_SVD)"
   ]
  },
  {
   "cell_type": "code",
   "execution_count": 8,
   "metadata": {},
   "outputs": [
    {
     "name": "stdout",
     "output_type": "stream",
     "text": [
      "[[ 0.00000000e+00  7.51671227e-02 -7.87252676e-03 ...  6.62868489e-04\n",
      "  -7.56640587e-04  3.68656815e-04]\n",
      " [ 0.00000000e+00 -8.83879638e-02 -1.33785843e-02 ... -3.65443110e-04\n",
      "   1.08156436e-03  2.37137440e-04]\n",
      " [ 0.00000000e+00 -1.13336973e-01  9.69827371e-02 ... -3.67006081e-04\n",
      "   1.36622148e-03  3.05841354e-05]\n",
      " ...\n",
      " [ 2.95268895e-10  2.61910888e-10  2.39998582e-10 ...  5.11805049e-06\n",
      "  -5.29946753e-04  4.59662926e-06]\n",
      " [-1.08767416e-09 -9.47972516e-10 -8.56359740e-10 ... -9.86041281e-06\n",
      "   1.01960035e-03 -8.85587121e-06]\n",
      " [ 1.19581786e-10  1.03826111e-10  9.35025577e-11 ...  1.29800629e-06\n",
      "  -1.30885972e-04  1.16577456e-06]]\n"
     ]
    }
   ],
   "source": [
    "print(J_eigenvals.T)"
   ]
  },
  {
   "cell_type": "code",
   "execution_count": null,
   "metadata": {},
   "outputs": [],
   "source": []
  }
 ],
 "metadata": {
  "kernelspec": {
   "display_name": "Python 3",
   "language": "python",
   "name": "python3"
  },
  "language_info": {
   "codemirror_mode": {
    "name": "ipython",
    "version": 3
   },
   "file_extension": ".py",
   "mimetype": "text/x-python",
   "name": "python",
   "nbconvert_exporter": "python",
   "pygments_lexer": "ipython3",
   "version": "3.6.5"
  }
 },
 "nbformat": 4,
 "nbformat_minor": 2
}
