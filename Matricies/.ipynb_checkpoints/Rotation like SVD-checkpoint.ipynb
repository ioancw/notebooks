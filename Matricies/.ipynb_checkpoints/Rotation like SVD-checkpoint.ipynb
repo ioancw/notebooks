{
 "cells": [
  {
   "cell_type": "markdown",
   "metadata": {},
   "source": [
    "The purose of this analysis, is to time matrix like operations on relatively large matrices, e.g. 1000 rows by 2300 colummsn."
   ]
  },
  {
   "cell_type": "code",
   "execution_count": 1,
   "metadata": {},
   "outputs": [],
   "source": [
    "import numpy as np\n",
    "from numpy import genfromtxt"
   ]
  },
  {
   "cell_type": "code",
   "execution_count": 2,
   "metadata": {},
   "outputs": [
    {
     "name": "stdout",
     "output_type": "stream",
     "text": [
      "J: (1100, 2294)\n"
     ]
    }
   ],
   "source": [
    "J = genfromtxt('matrix-large.csv', delimiter=',')\n",
    "print('J:', J.shape)"
   ]
  },
  {
   "cell_type": "markdown",
   "metadata": {},
   "source": [
    "We multiply the transpose of J by J."
   ]
  },
  {
   "cell_type": "code",
   "execution_count": 3,
   "metadata": {},
   "outputs": [
    {
     "name": "stdout",
     "output_type": "stream",
     "text": [
      "J_SVD: (2294, 2294)\n",
      "CPU times: user 229 ms, sys: 24.1 ms, total: 254 ms\n",
      "Wall time: 259 ms\n"
     ]
    }
   ],
   "source": [
    "%%time\n",
    "jacobian_SVD = np.dot(J.T,J)\n",
    "print('J_SVD:', jacobian_SVD.shape)"
   ]
  },
  {
   "cell_type": "code",
   "execution_count": 4,
   "metadata": {},
   "outputs": [
    {
     "name": "stdout",
     "output_type": "stream",
     "text": [
      "CPU times: user 2.47 s, sys: 90.9 ms, total: 2.56 s\n",
      "Wall time: 2.63 s\n"
     ]
    }
   ],
   "source": [
    "%%time\n",
    "J_eigenvecs, J_eigenvals = np.linalg.eigh(jacobian_SVD)"
   ]
  },
  {
   "cell_type": "code",
   "execution_count": 5,
   "metadata": {},
   "outputs": [
    {
     "name": "stdout",
     "output_type": "stream",
     "text": [
      "[[ 0.00000000e+00  4.81084504e-02  5.13007867e-02 ...  3.10397312e-04\n",
      "   2.42992603e-03 -2.78972847e-04]\n",
      " [ 0.00000000e+00 -1.14728032e-02 -5.39192541e-02 ... -8.66348028e-05\n",
      "  -2.20816443e-03  4.70553574e-04]\n",
      " [ 0.00000000e+00  1.33093788e-02  7.92409551e-02 ...  4.89303509e-04\n",
      "  -5.21063968e-03  1.05845853e-04]\n",
      " ...\n",
      " [ 2.95268894e-10  2.61910872e-10  2.39998542e-10 ...  5.11805049e-06\n",
      "  -5.29946753e-04  4.59662926e-06]\n",
      " [-1.08767416e-09 -9.47972527e-10 -8.56359685e-10 ... -9.86041281e-06\n",
      "   1.01960035e-03 -8.85587121e-06]\n",
      " [ 1.19581786e-10  1.03826100e-10  9.35025109e-11 ...  1.29800629e-06\n",
      "  -1.30885972e-04  1.16577456e-06]]\n"
     ]
    }
   ],
   "source": [
    "print(J_eigenvals.T)"
   ]
  },
  {
   "cell_type": "code",
   "execution_count": null,
   "metadata": {},
   "outputs": [],
   "source": []
  }
 ],
 "metadata": {
  "kernelspec": {
   "display_name": "Python 3",
   "language": "python",
   "name": "python3"
  },
  "language_info": {
   "codemirror_mode": {
    "name": "ipython",
    "version": 3
   },
   "file_extension": ".py",
   "mimetype": "text/x-python",
   "name": "python",
   "nbconvert_exporter": "python",
   "pygments_lexer": "ipython3",
   "version": "3.6.6"
  }
 },
 "nbformat": 4,
 "nbformat_minor": 2
}
