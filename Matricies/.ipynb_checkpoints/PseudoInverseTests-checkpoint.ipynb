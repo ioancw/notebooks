{
 "cells": [
  {
   "cell_type": "markdown",
   "metadata": {},
   "source": [
    "# Pseudo Inverse in Python\n",
    "\n",
    "The purpose of this notebook is to look at ways of inverting a rectangular matrix in Python."
   ]
  },
  {
   "cell_type": "code",
   "execution_count": 2,
   "metadata": {},
   "outputs": [],
   "source": [
    "import numpy as np\n",
    "import math"
   ]
  },
  {
   "cell_type": "code",
   "execution_count": 3,
   "metadata": {},
   "outputs": [],
   "source": [
    "J = np.array([[1.0, 2.0, 3.0, 4.0],\n",
    "              [3.0, 4.0, 5.0, 6.0],\n",
    "              [3.1, 4.1, 5.1, 6.2]])"
   ]
  },
  {
   "cell_type": "code",
   "execution_count": 4,
   "metadata": {},
   "outputs": [],
   "source": [
    "tol = 0.0027"
   ]
  },
  {
   "cell_type": "code",
   "execution_count": 5,
   "metadata": {},
   "outputs": [],
   "source": [
    "def invertEngenValues(diag):\n",
    "    maxEigenValue = diag[len(diag) - 1]\n",
    "    return np.array([0 if math.sqrt(abs(x / maxEigenValue)) < tol else 1.0 / x for x in diag])"
   ]
  },
  {
   "cell_type": "markdown",
   "metadata": {},
   "source": [
    "Firstly we use numpy to determine the SVD.\n",
    "Note that here the numpy function returns the transpose of V (i.e. V_T), other implementations (e.g. Julia) only provide V."
   ]
  },
  {
   "cell_type": "code",
   "execution_count": 6,
   "metadata": {},
   "outputs": [
    {
     "name": "stdout",
     "output_type": "stream",
     "text": [
      "Singular values of J: [14.35521602  0.89236222  0.03824324]\n",
      "U: (3, 3) \n",
      " [[-0.37718109  0.92613517 -0.00284064]\n",
      " [-0.64579717 -0.26520566 -0.71596926]\n",
      " [-0.66383767 -0.26821559  0.69812603]]\n",
      "S:\n",
      " [14.35521602  0.89236222  0.03824324]\n",
      "V_T:\n",
      " [[-3.04590982e-01 -4.22096419e-01 -5.39601855e-01 -6.61731657e-01]\n",
      " [-7.85499550e-01 -3.45416012e-01  9.46675270e-02  5.04694259e-01]\n",
      " [ 3.51494130e-01 -1.89356082e-01 -7.30206293e-01  5.54432070e-01]\n",
      " [-4.08248290e-01  8.16496581e-01 -4.08248290e-01  1.15395114e-14]]\n"
     ]
    }
   ],
   "source": [
    "u, s, v_T = np.linalg.svd(J)\n",
    "print('Singular values of J: {}'.format(s))\n",
    "print('U:',u.shape,'\\n', u)\n",
    "print('S:\\n', s)\n",
    "print('V_T:\\n', v_T)"
   ]
  },
  {
   "cell_type": "markdown",
   "metadata": {},
   "source": [
    "Now work attempt to reconstitute the original matrix from the SVD parts.\n",
    "U * Sigma * V_T"
   ]
  },
  {
   "cell_type": "code",
   "execution_count": 9,
   "metadata": {},
   "outputs": [
    {
     "name": "stdout",
     "output_type": "stream",
     "text": [
      "Sigma:\n",
      " [[14.35521602  0.          0.          0.        ]\n",
      " [ 0.          0.89236222  0.          0.        ]\n",
      " [ 0.          0.          0.03824324  0.        ]]\n",
      "[[1.  2.  3.  4. ]\n",
      " [3.  4.  5.  6. ]\n",
      " [3.1 4.1 5.1 6.2]]\n"
     ]
    },
    {
     "data": {
      "text/plain": [
       "True"
      ]
     },
     "execution_count": 9,
     "metadata": {},
     "output_type": "execute_result"
    }
   ],
   "source": [
    "m, n = J.shape\n",
    "sigma = np.zeros((m, n))\n",
    "for i in range(min(m, n)):\n",
    "    sigma[i, i] = s[i]\n",
    "print(\"Sigma:\\n\", sigma)\n",
    "J_original = np.dot(u, np.dot(sigma, v_T))\n",
    "print(J_1)\n",
    "np.allclose(J, J_original)"
   ]
  },
  {
   "cell_type": "markdown",
   "metadata": {},
   "source": [
    "Now we use the SVD to work out the pseudo inverse (for systems where we have Ax = b, and we want to solve for x)"
   ]
  },
  {
   "cell_type": "code",
   "execution_count": 10,
   "metadata": {},
   "outputs": [
    {
     "name": "stdout",
     "output_type": "stream",
     "text": [
      "[[-0.37718109  0.92613517 -0.00284064]\n",
      " [-0.64579717 -0.26520566 -0.71596926]\n",
      " [-0.66383767 -0.26821559  0.69812603]]\n",
      "[[-0.37718109 -0.64579717 -0.66383767]\n",
      " [ 0.92613517 -0.26520566 -0.26821559]\n",
      " [-0.00284064 -0.71596926  0.69812603]]\n",
      "2\n",
      "[[-0.37718109  0.92613517]\n",
      " [-0.64579717 -0.26520566]\n",
      " [-0.66383767 -0.26821559]]\n",
      "[[-3.04590982e-01 -4.22096419e-01 -5.39601855e-01 -6.61731657e-01]\n",
      " [-7.85499550e-01 -3.45416012e-01  9.46675270e-02  5.04694259e-01]\n",
      " [ 3.51494130e-01 -1.89356082e-01 -7.30206293e-01  5.54432070e-01]\n",
      " [-4.08248290e-01  8.16496581e-01 -4.08248290e-01  1.15395114e-14]]\n",
      "[[-0.30459098 -0.42209642 -0.53960185 -0.66173166]\n",
      " [-0.78549955 -0.34541601  0.09466753  0.50469426]]\n",
      "[[-0.30459098 -0.78549955]\n",
      " [-0.42209642 -0.34541601]\n",
      " [-0.53960185  0.09466753]\n",
      " [-0.66173166  0.50469426]]\n",
      "[[-0.80722502  0.24714921  0.25018148]\n",
      " [-0.34739834  0.12164476  0.1233403 ]\n",
      " [ 0.11242833 -0.00385969 -0.00350087]\n",
      " [ 0.54118216 -0.12022337 -0.12109409]]\n"
     ]
    }
   ],
   "source": [
    "# V * 1/sigma * U_T\n",
    "u, s, v_T = np.linalg.svd(J)\n",
    "print(u)\n",
    "print(np.transpose(u))\n",
    "cond = tol\n",
    "rank = np.sum(s > cond * np.max(s))\n",
    "print(rank)\n",
    "print((u[:,:rank]))\n",
    "s_1 = np.array([1.0 / x for x in s[:rank]])\n",
    "print(v_T)\n",
    "print(v_T[:rank])\n",
    "v = np.transpose(v_T[:rank])\n",
    "print(v)\n",
    "u_T = np.transpose(u[:,:rank])\n",
    "s_1 = np.diag(s_1)\n",
    "J_inv = np.dot(v,np.dot(s_1,u_T))\n",
    "print(J_inv)"
   ]
  },
  {
   "cell_type": "code",
   "execution_count": 8,
   "metadata": {},
   "outputs": [
    {
     "name": "stdout",
     "output_type": "stream",
     "text": [
      "[[-0.80722502  0.24714921  0.25018148]\n",
      " [-0.34739834  0.12164476  0.1233403 ]\n",
      " [ 0.11242833 -0.00385969 -0.00350087]\n",
      " [ 0.54118216 -0.12022337 -0.12109409]]\n"
     ]
    }
   ],
   "source": [
    "# Pseudo Inv call\n",
    "pseudoInv = np.linalg.pinv(J, rcond = tol)\n",
    "print(pseudoInv)"
   ]
  },
  {
   "cell_type": "code",
   "execution_count": 9,
   "metadata": {},
   "outputs": [
    {
     "name": "stdout",
     "output_type": "stream",
     "text": [
      "[1.46254562e-03 7.96310340e-01 2.06072227e+02]\n",
      "[[6.83739356e+02 0.00000000e+00 0.00000000e+00]\n",
      " [0.00000000e+00 1.25579181e+00 0.00000000e+00]\n",
      " [0.00000000e+00 0.00000000e+00 4.85266750e-03]]\n",
      "[[0.         0.         0.        ]\n",
      " [0.         1.25579181 0.        ]\n",
      " [0.         0.         0.00485267]]\n",
      "[[-0.80722502  0.24714921  0.25018148]\n",
      " [-0.34739834  0.12164476  0.1233403 ]\n",
      " [ 0.11242833 -0.00385969 -0.00350087]\n",
      " [ 0.54118216 -0.12022337 -0.12109409]]\n",
      "Singular values of J:\n",
      " [[0.         0.         0.        ]\n",
      " [0.         1.25579181 0.        ]\n",
      " [0.         0.         0.00485267]]\n",
      "[1.46254562e-03 7.96310340e-01 2.06072227e+02]\n"
     ]
    }
   ],
   "source": [
    "# Eigen decomposition of \"small\" matrix J x JT\n",
    "# whataout ordering the eigenVectors and values? Does it matter if you don't care about removing certain singular values.\n",
    "eigenValues, eigenVectors = np.linalg.eigh(np.matmul(J, J.T))\n",
    "print(eigenValues)\n",
    "eV_1 = np.diag(np.array([1.0 / x for x in eigenValues]))\n",
    "print(eV_1)\n",
    "eigenValuesInverse = np.diag(invertEngenValues(eigenValues))\n",
    "print(eigenValuesInverse)\n",
    "svdInverse = np.matmul(eigenVectors,np.matmul(eigenValuesInverse,eigenVectors.T))\n",
    "pseudoInv = np.matmul(J.T, svdInverse)\n",
    "print(pseudoInv)\n",
    "print('Singular values of J:\\n {}'.format(eigenValuesInverse))\n",
    "print(eigenValues)"
   ]
  },
  {
   "cell_type": "code",
   "execution_count": 10,
   "metadata": {},
   "outputs": [
    {
     "name": "stdout",
     "output_type": "stream",
     "text": [
      "[-4.23873170e-14  1.46254562e-03  7.96310340e-01  2.06072227e+02]\n",
      "[[0.         0.         0.         0.        ]\n",
      " [0.         0.         0.         0.        ]\n",
      " [0.         0.         1.25579181 0.        ]\n",
      " [0.         0.         0.         0.00485267]]\n",
      "[[-0.80722502  0.24714921  0.25018148]\n",
      " [-0.34739834  0.12164476  0.1233403 ]\n",
      " [ 0.11242833 -0.00385969 -0.00350087]\n",
      " [ 0.54118216 -0.12022337 -0.12109409]]\n"
     ]
    }
   ],
   "source": [
    "# Eigen decomposition of \"large\" matrix JT x J\n",
    "eigenValues, eigenVectors = np.linalg.eigh(np.matmul(J.T, J))\n",
    "eigenValuesInverse = np.diag(invertEngenValues(eigenValues))\n",
    "svdInverse = np.matmul(eigenVectors,np.matmul(eigenValuesInverse,eigenVectors.T))\n",
    "pseudoInv = np.matmul(svdInverse, J.T)\n",
    "print(eigenValues)\n",
    "print(eigenValuesInverse)\n",
    "print(pseudoInv)"
   ]
  },
  {
   "cell_type": "markdown",
   "metadata": {},
   "source": [
    "This is an example of svd taken from scipy, where we take a random input matrix and calculate the svd, then multiply out each element of the svd to see if we get the input matrix."
   ]
  },
  {
   "cell_type": "code",
   "execution_count": 11,
   "metadata": {},
   "outputs": [
    {
     "name": "stdout",
     "output_type": "stream",
     "text": [
      "a: (3, 4) \n",
      " [[-0.46891122 -1.49822127 -2.69283605 -0.4224618 ]\n",
      " [-0.08900421 -0.09934865 -1.2827205  -0.91838761]\n",
      " [ 2.5588291   0.20999753  2.39159737  0.04609589]]\n",
      "U: (3, 3) \n",
      " [[-0.63702645 -0.64401256  0.42360963]\n",
      " [-0.27491421 -0.32359472 -0.90537762]\n",
      " [ 0.7201524  -0.6932058   0.02909019]]\n",
      "s: (3,) \n",
      " [4.54416437 1.82686701 0.85304134]\n",
      "Vh: (4, 4) \n",
      " [[ 0.47663863  0.24931958  0.83411606  0.12208916]\n",
      " [-0.78988189  0.46607143  0.26900297  0.29411125]\n",
      " [-0.05113008 -0.63139268  0.10574771  0.76651577]\n",
      " [ 0.38247605  0.5674156  -0.46979275  0.55771532]]\n",
      "sigma: (3, 4) \n",
      " [[4.54416437 0.         0.         0.        ]\n",
      " [0.         1.82686701 0.         0.        ]\n",
      " [0.         0.         0.85304134 0.        ]]\n",
      "[[-0.46891122 -1.49822127 -2.69283605 -0.4224618 ]\n",
      " [-0.08900421 -0.09934865 -1.2827205  -0.91838761]\n",
      " [ 2.5588291   0.20999753  2.39159737  0.04609589]]\n"
     ]
    },
    {
     "data": {
      "text/plain": [
       "True"
      ]
     },
     "execution_count": 11,
     "metadata": {},
     "output_type": "execute_result"
    }
   ],
   "source": [
    "m, n = 3, 4\n",
    "a = np.random.randn(m, n) + np.random.randn(m, n)\n",
    "print('a:',a.shape, '\\n', a)\n",
    "#calculate the svd\n",
    "U, s, Vh = np.linalg.svd(a)\n",
    "print('U:',U.shape, '\\n', U)\n",
    "print('s:',s.shape,'\\n', s)\n",
    "print('Vh:',Vh.shape,'\\n', Vh)\n",
    "\n",
    "#now print reconstitue sigma\n",
    "sigma = np.zeros((m, n))\n",
    "for i in range(min(m, n)):\n",
    "    sigma[i, i] = s[i]\n",
    "print('sigma:',sigma.shape,'\\n', sigma)\n",
    "#now do U*Sigma*Vh, to get the original matrix.\n",
    "a1 = np.dot(U, np.dot(sigma, Vh))\n",
    "print(a1)\n",
    "np.allclose(a, a1)"
   ]
  },
  {
   "cell_type": "code",
   "execution_count": null,
   "metadata": {},
   "outputs": [],
   "source": []
  }
 ],
 "metadata": {
  "anaconda-cloud": {},
  "kernelspec": {
   "display_name": "Python 3",
   "language": "python",
   "name": "python3"
  },
  "language_info": {
   "codemirror_mode": {
    "name": "ipython",
    "version": 3
   },
   "file_extension": ".py",
   "mimetype": "text/x-python",
   "name": "python",
   "nbconvert_exporter": "python",
   "pygments_lexer": "ipython3",
   "version": "3.6.6"
  }
 },
 "nbformat": 4,
 "nbformat_minor": 2
}
