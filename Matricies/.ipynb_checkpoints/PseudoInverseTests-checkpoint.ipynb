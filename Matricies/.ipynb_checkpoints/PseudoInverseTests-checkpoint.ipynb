{
 "cells": [
  {
   "cell_type": "markdown",
   "metadata": {},
   "source": [
    "# SVD and Pseudo Inverse in Python\n",
    "\n",
    "The purpose of this notebook is to look at ways of inverting a rectangular matrix in Python, by using the SVD and its pseudo inverse."
   ]
  },
  {
   "cell_type": "code",
   "execution_count": 1,
   "metadata": {},
   "outputs": [],
   "source": [
    "import numpy as np\n",
    "import math"
   ]
  },
  {
   "cell_type": "code",
   "execution_count": 2,
   "metadata": {},
   "outputs": [],
   "source": [
    "J = np.array([[1.0, 2.0, 3.0, 4.0],\n",
    "              [3.0, 4.0, 5.0, 6.0],\n",
    "              [3.1, 4.1, 5.1, 6.2]])"
   ]
  },
  {
   "cell_type": "code",
   "execution_count": 3,
   "metadata": {},
   "outputs": [],
   "source": [
    "tol = 0.0027"
   ]
  },
  {
   "cell_type": "code",
   "execution_count": 4,
   "metadata": {},
   "outputs": [],
   "source": [
    "def invertEngenValues(diag):\n",
    "    maxEigenValue = diag[len(diag) - 1]\n",
    "    return np.array([0 if math.sqrt(abs(x / maxEigenValue)) < tol else 1.0 / x for x in diag])"
   ]
  },
  {
   "cell_type": "markdown",
   "metadata": {},
   "source": [
    "## SVD using Numpy\n",
    "Firstly we use numpy to determine the SVD.\n",
    "Note that here the numpy function returns the transpose of V (i.e. V_T), other implementations (e.g. Julia) only provide V."
   ]
  },
  {
   "cell_type": "code",
   "execution_count": 5,
   "metadata": {},
   "outputs": [
    {
     "name": "stdout",
     "output_type": "stream",
     "text": [
      "Singular values of J: [14.35521602  0.89236222  0.03824324]\n",
      "U: (3, 3) \n",
      " [[-0.37718109  0.92613517 -0.00284064]\n",
      " [-0.64579717 -0.26520566 -0.71596926]\n",
      " [-0.66383767 -0.26821559  0.69812603]]\n",
      "S:\n",
      " [14.35521602  0.89236222  0.03824324]\n",
      "V_T:\n",
      " [[-3.04590982e-01 -4.22096419e-01 -5.39601855e-01 -6.61731657e-01]\n",
      " [-7.85499550e-01 -3.45416012e-01  9.46675270e-02  5.04694259e-01]\n",
      " [ 3.51494130e-01 -1.89356082e-01 -7.30206293e-01  5.54432070e-01]\n",
      " [-4.08248290e-01  8.16496581e-01 -4.08248290e-01  1.15395114e-14]]\n"
     ]
    }
   ],
   "source": [
    "u, s, v_T = np.linalg.svd(J)\n",
    "print('Singular values of J: {}'.format(s))\n",
    "print('U:',u.shape,'\\n', u)\n",
    "print('S:\\n', s)\n",
    "print('V_T:\\n', v_T)"
   ]
  },
  {
   "cell_type": "markdown",
   "metadata": {},
   "source": [
    "Now work attempt to reconstitute the original matrix from the SVD parts.\n",
    "U * Sigma * V_T"
   ]
  },
  {
   "cell_type": "code",
   "execution_count": 6,
   "metadata": {},
   "outputs": [
    {
     "name": "stdout",
     "output_type": "stream",
     "text": [
      "Sigma:\n",
      " [[14.35521602  0.          0.          0.        ]\n",
      " [ 0.          0.89236222  0.          0.        ]\n",
      " [ 0.          0.          0.03824324  0.        ]]\n",
      "[[1.  2.  3.  4. ]\n",
      " [3.  4.  5.  6. ]\n",
      " [3.1 4.1 5.1 6.2]]\n"
     ]
    },
    {
     "data": {
      "text/plain": [
       "True"
      ]
     },
     "execution_count": 6,
     "metadata": {},
     "output_type": "execute_result"
    }
   ],
   "source": [
    "m, n = J.shape\n",
    "sigma = np.zeros((m, n))\n",
    "for i in range(min(m, n)):\n",
    "    sigma[i, i] = s[i]\n",
    "print(\"Sigma:\\n\", sigma)\n",
    "J_original = np.dot(u, np.dot(sigma, v_T))\n",
    "print(J_original)\n",
    "np.allclose(J, J_original)"
   ]
  },
  {
   "cell_type": "markdown",
   "metadata": {},
   "source": [
    "## Pseudo Inverse using the SVD\n",
    "Now we use the SVD to work out the pseudo inverse (for systems where we have Ax = b, and we want to solve for x)\n",
    "\n",
    "If the SVD is given as U*Sigma*V_T (where V_T is the transpose of V), then the pseudo inverse is given as V * 1/Sigma * U_T"
   ]
  },
  {
   "cell_type": "code",
   "execution_count": 7,
   "metadata": {},
   "outputs": [
    {
     "name": "stdout",
     "output_type": "stream",
     "text": [
      "[[-0.37718109  0.92613517 -0.00284064]\n",
      " [-0.64579717 -0.26520566 -0.71596926]\n",
      " [-0.66383767 -0.26821559  0.69812603]]\n",
      "[[-0.37718109 -0.64579717 -0.66383767]\n",
      " [ 0.92613517 -0.26520566 -0.26821559]\n",
      " [-0.00284064 -0.71596926  0.69812603]]\n",
      "2\n",
      "[[-0.37718109  0.92613517]\n",
      " [-0.64579717 -0.26520566]\n",
      " [-0.66383767 -0.26821559]]\n",
      "[[-3.04590982e-01 -4.22096419e-01 -5.39601855e-01 -6.61731657e-01]\n",
      " [-7.85499550e-01 -3.45416012e-01  9.46675270e-02  5.04694259e-01]\n",
      " [ 3.51494130e-01 -1.89356082e-01 -7.30206293e-01  5.54432070e-01]\n",
      " [-4.08248290e-01  8.16496581e-01 -4.08248290e-01  1.15395114e-14]]\n",
      "[[-0.30459098 -0.42209642 -0.53960185 -0.66173166]\n",
      " [-0.78549955 -0.34541601  0.09466753  0.50469426]]\n",
      "[[-0.30459098 -0.78549955]\n",
      " [-0.42209642 -0.34541601]\n",
      " [-0.53960185  0.09466753]\n",
      " [-0.66173166  0.50469426]]\n",
      "[[-0.80722502  0.24714921  0.25018148]\n",
      " [-0.34739834  0.12164476  0.1233403 ]\n",
      " [ 0.11242833 -0.00385969 -0.00350087]\n",
      " [ 0.54118216 -0.12022337 -0.12109409]]\n"
     ]
    }
   ],
   "source": [
    "# V * 1/sigma * U_T\n",
    "u, s, v_T = np.linalg.svd(J)\n",
    "print(u)\n",
    "print(np.transpose(u))\n",
    "cond = tol\n",
    "rank = np.sum(s > cond * np.max(s))\n",
    "print(rank)\n",
    "print((u[:,:rank]))\n",
    "s_1 = np.array([1.0 / x for x in s[:rank]])\n",
    "print(v_T)\n",
    "print(v_T[:rank])\n",
    "v = np.transpose(v_T[:rank])\n",
    "print(v)\n",
    "u_T = np.transpose(u[:,:rank])\n",
    "s_1 = np.diag(s_1)\n",
    "J_inv = np.dot(v,np.dot(s_1,u_T))\n",
    "print(J_inv)"
   ]
  },
  {
   "cell_type": "markdown",
   "metadata": {},
   "source": [
    "Now run the pinv (basically a pseudo inverse) in Numpy"
   ]
  },
  {
   "cell_type": "code",
   "execution_count": 8,
   "metadata": {},
   "outputs": [
    {
     "name": "stdout",
     "output_type": "stream",
     "text": [
      "[[-0.80722502  0.24714921  0.25018148]\n",
      " [-0.34739834  0.12164476  0.1233403 ]\n",
      " [ 0.11242833 -0.00385969 -0.00350087]\n",
      " [ 0.54118216 -0.12022337 -0.12109409]]\n"
     ]
    }
   ],
   "source": [
    "# Pseudo Inv call\n",
    "pseudoInv = np.linalg.pinv(J, rcond = tol)\n",
    "print(pseudoInv)"
   ]
  },
  {
   "cell_type": "markdown",
   "metadata": {},
   "source": [
    "## Eigendecomposition\n",
    "Now we look at another way of inverting a non square matrix.  Using an Eigen decomposition.  \n",
    "\n",
    "The Eigendecomposition of a matrix is a type of decomposition that involves decomposing a square matrix into a set of Eigenvectors and Eigenvalues.\n",
    "\n",
    "This requires us to calculate the Eigenvalues and Eigenvectors, and some sources have clamimed this isn't as numerically stable as calculating the SVD directly."
   ]
  },
  {
   "cell_type": "markdown",
   "metadata": {},
   "source": [
    "We want to find the solution to $A \\hat{x} = b $\n",
    "\n",
    "$$ A^T A \\hat{x} = A^T b $$\n",
    "$$ \\hat{x} = (A^T A)^{-1} A^T b $$\n",
    "\n",
    "We want to find $(A^T A)^{-1} A^T$, which we'll call the pseudo inverse.\n",
    "\n",
    "In order to find $(A^T A)^{-1}$ we use the eigendecomposition.\n",
    "\n",
    "Recall that, $J^n = V \\Lambda^{n} V^T$ so that $J^{-1} = V \\Lambda^{-1} V^T$, where in our case $J = A^T A$\n",
    "\n",
    "So\n",
    "\n",
    "$(A^T A)^{-1} = U \\Sigma^{-1} U^T$\n",
    "\n",
    "where\n",
    "\n",
    "$U$ = eigenvectors of $A^T A$\n",
    "\n",
    "$\\Sigma$ = eigenvaluues of $A^T A$\n",
    "\n",
    "Note that the eigenvalues of $A^T A$ are the square of the eigen values of $A$"
   ]
  },
  {
   "cell_type": "code",
   "execution_count": 18,
   "metadata": {},
   "outputs": [
    {
     "name": "stdout",
     "output_type": "stream",
     "text": [
      "Pseudo Inverse using J x JT is:\n",
      "[[-0.80722502  0.24714921  0.25018148]\n",
      " [-0.34739834  0.12164476  0.1233403 ]\n",
      " [ 0.11242833 -0.00385969 -0.00350087]\n",
      " [ 0.54118216 -0.12022337 -0.12109409]]\n"
     ]
    }
   ],
   "source": [
    "# Eigen decomposition of \"small\" matrix J x JT\n",
    "eigenValues, eigenVectors = np.linalg.eigh(np.matmul(J, J.T))\n",
    "eigenValuesInverse = np.diag(invertEngenValues(eigenValues))\n",
    "svdInverse = np.matmul(eigenVectors,np.matmul(eigenValuesInverse,eigenVectors.T))\n",
    "print(\"Pseudo Inverse using J x JT is:\")\n",
    "pseudoInv = np.matmul(J.T, svdInverse)\n",
    "print(pseudoInv)"
   ]
  },
  {
   "cell_type": "code",
   "execution_count": 14,
   "metadata": {},
   "outputs": [
    {
     "name": "stdout",
     "output_type": "stream",
     "text": [
      "Pseudo Inverse using JT x J is:\n",
      "[[-0.80722502  0.24714921  0.25018148]\n",
      " [-0.34739834  0.12164476  0.1233403 ]\n",
      " [ 0.11242833 -0.00385969 -0.00350087]\n",
      " [ 0.54118216 -0.12022337 -0.12109409]]\n"
     ]
    }
   ],
   "source": [
    "# Eigen decomposition of \"large\" matrix JT x J\n",
    "eigenValues, eigenVectors = np.linalg.eigh(np.matmul(J.T, J))\n",
    "eigenValuesInverse = np.diag(invertEngenValues(eigenValues))\n",
    "svdInverse = np.matmul(eigenVectors,np.matmul(eigenValuesInverse,eigenVectors.T))\n",
    "pseudoInv = np.matmul(svdInverse, J.T)\n",
    "print(\"Pseudo Inverse using JT x J is:\")\n",
    "print(pseudoInv)"
   ]
  },
  {
   "cell_type": "markdown",
   "metadata": {},
   "source": [
    "This is an example of svd taken from scipy, where we take a random input matrix and calculate the svd, then multiply out each element of the svd to see if we get the input matrix."
   ]
  },
  {
   "cell_type": "code",
   "execution_count": 19,
   "metadata": {},
   "outputs": [
    {
     "name": "stdout",
     "output_type": "stream",
     "text": [
      "a: (3, 4) \n",
      " [[-2.94023272 -1.15078239  3.54916221  1.78311643]\n",
      " [ 1.11097857  0.04296407  1.0619762  -0.7388133 ]\n",
      " [ 1.53630613 -0.88239209  0.51418481  0.06865424]]\n",
      "U: (3, 3) \n",
      " [[-0.99633653 -0.08397837  0.01616037]\n",
      " [ 0.04434186 -0.66887709 -0.74204935]\n",
      " [ 0.0731254  -0.73861429  0.67015044]]\n",
      "s: (3,) \n",
      " [5.08899458 2.27840174 0.98694197]\n",
      "Vh: (4, 4) \n",
      " [[ 0.60740232  0.21299814 -0.67822237 -0.35455413]\n",
      " [-0.71582188  0.31585763 -0.609273    0.12891628]\n",
      " [ 0.15972576 -0.65030568 -0.39121025  0.631304  ]\n",
      " [ 0.30520344  0.65724293  0.12552038  0.67758927]]\n",
      "sigma: (3, 4) \n",
      " [[5.08899458 0.         0.         0.        ]\n",
      " [0.         2.27840174 0.         0.        ]\n",
      " [0.         0.         0.98694197 0.        ]]\n",
      "Original Matrix:  [[-2.94023272 -1.15078239  3.54916221  1.78311643]\n",
      " [ 1.11097857  0.04296407  1.0619762  -0.7388133 ]\n",
      " [ 1.53630613 -0.88239209  0.51418481  0.06865424]]\n"
     ]
    },
    {
     "data": {
      "text/plain": [
       "True"
      ]
     },
     "execution_count": 19,
     "metadata": {},
     "output_type": "execute_result"
    }
   ],
   "source": [
    "m, n = 3, 4\n",
    "a = np.random.randn(m, n) + np.random.randn(m, n)\n",
    "print('a:',a.shape, '\\n', a)\n",
    "#calculate the svd\n",
    "U, s, Vh = np.linalg.svd(a)\n",
    "print('U:',U.shape, '\\n', U)\n",
    "print('s:',s.shape,'\\n', s)\n",
    "print('Vh:',Vh.shape,'\\n', Vh)\n",
    "\n",
    "#now print reconstitue sigma\n",
    "sigma = np.zeros((m, n))\n",
    "for i in range(min(m, n)):\n",
    "    sigma[i, i] = s[i]\n",
    "print('sigma:',sigma.shape,'\\n', sigma)\n",
    "#now do U*Sigma*Vh, to get the original matrix.\n",
    "a1 = np.dot(U, np.dot(sigma, Vh))\n",
    "print(\"Original Matrix: \",a1)\n",
    "np.allclose(a, a1)"
   ]
  },
  {
   "cell_type": "code",
   "execution_count": null,
   "metadata": {},
   "outputs": [],
   "source": []
  }
 ],
 "metadata": {
  "anaconda-cloud": {},
  "kernelspec": {
   "display_name": "Python 3",
   "language": "python",
   "name": "python3"
  },
  "language_info": {
   "codemirror_mode": {
    "name": "ipython",
    "version": 3
   },
   "file_extension": ".py",
   "mimetype": "text/x-python",
   "name": "python",
   "nbconvert_exporter": "python",
   "pygments_lexer": "ipython3",
   "version": "3.6.6"
  }
 },
 "nbformat": 4,
 "nbformat_minor": 2
}
