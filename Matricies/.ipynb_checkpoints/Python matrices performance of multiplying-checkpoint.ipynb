{
 "cells": [
  {
   "cell_type": "markdown",
   "metadata": {},
   "source": [
    "## Performance of matrix multiplication\n",
    "The purpose of this notebook, is to show timings of multiplying large matricies, in this case transpose of a matrix by its non transposed."
   ]
  },
  {
   "cell_type": "code",
   "execution_count": 2,
   "metadata": {},
   "outputs": [],
   "source": [
    "import numpy as np"
   ]
  },
  {
   "cell_type": "code",
   "execution_count": 3,
   "metadata": {},
   "outputs": [
    {
     "data": {
      "text/plain": [
       "(1100, 2294)"
      ]
     },
     "execution_count": 3,
     "metadata": {},
     "output_type": "execute_result"
    }
   ],
   "source": [
    "J = np.genfromtxt('matrix-large.csv', delimiter = ',')\n",
    "J.shape"
   ]
  },
  {
   "cell_type": "code",
   "execution_count": 4,
   "metadata": {},
   "outputs": [],
   "source": [
    "J_T = J.T"
   ]
  },
  {
   "cell_type": "code",
   "execution_count": 5,
   "metadata": {},
   "outputs": [
    {
     "name": "stdout",
     "output_type": "stream",
     "text": [
      "CPU times: user 248 ms, sys: 32 ms, total: 280 ms\n",
      "Wall time: 287 ms\n"
     ]
    }
   ],
   "source": [
    "%%time\n",
    "J_TxJ = np.dot(J_T,J)"
   ]
  },
  {
   "cell_type": "code",
   "execution_count": 6,
   "metadata": {},
   "outputs": [
    {
     "name": "stdout",
     "output_type": "stream",
     "text": [
      "(2294, 2294)\n",
      "0.7137511875527264\n",
      "CPU times: user 252 ms, sys: 24 ms, total: 276 ms\n",
      "Wall time: 281 ms\n"
     ]
    }
   ],
   "source": [
    "%%time\n",
    "x = np.matmul(J_T,J)\n",
    "print(x.shape)\n",
    "print(x[52,52])"
   ]
  },
  {
   "cell_type": "markdown",
   "metadata": {},
   "source": [
    "Now try to do a manual calculation"
   ]
  },
  {
   "cell_type": "code",
   "execution_count": 8,
   "metadata": {},
   "outputs": [],
   "source": [
    "def matrixProduct(a, b):\n",
    "    m = a.shape[0] #a rows\n",
    "    n = a.shape[1] #a cols b rows\n",
    "    p = b.shape[1] #b cols\n",
    "    c = np.zeros((m,q))\n",
    "    for j in range(n):\n",
    "        for i in range(m):\n",
    "            for k in range(p):\n",
    "                c[i][j] += a[i][k] * b[k][j]\n",
    "    return c"
   ]
  },
  {
   "cell_type": "code",
   "execution_count": 26,
   "metadata": {},
   "outputs": [
    {
     "name": "stdout",
     "output_type": "stream",
     "text": [
      "CPU times: user 1h 17min 19s, sys: 6.28 s, total: 1h 17min 25s\n",
      "Wall time: 1h 17min 31s\n"
     ]
    }
   ],
   "source": [
    "%%time\n",
    "J_TxJ_old = matrixProduct(J_T, J)"
   ]
  },
  {
   "cell_type": "code",
   "execution_count": 32,
   "metadata": {},
   "outputs": [
    {
     "name": "stdout",
     "output_type": "stream",
     "text": [
      "0.7137511875527264\n"
     ]
    }
   ],
   "source": [
    "J_TxJ_old.shape\n",
    "print(J_TxJ_old[52,52])"
   ]
  },
  {
   "cell_type": "code",
   "execution_count": 36,
   "metadata": {},
   "outputs": [],
   "source": [
    "def matrixProduct_2(a, b):\n",
    "    m = a.shape[0] #a rows\n",
    "    n = a.shape[1] #a cols b rows\n",
    "    q = b.shape[1] #b cols\n",
    "    c = np.zeros((m,q))\n",
    "    for i in range(q):\n",
    "        for j in range(m):\n",
    "            for k in range(n):\n",
    "                c[i][j] += a[i][k] * b[k][j]\n",
    "    return c"
   ]
  },
  {
   "cell_type": "code",
   "execution_count": 37,
   "metadata": {},
   "outputs": [
    {
     "name": "stdout",
     "output_type": "stream",
     "text": [
      "CPU times: user 1h 23min 30s, sys: 9.28 s, total: 1h 23min 40s\n",
      "Wall time: 3h 32min 48s\n"
     ]
    }
   ],
   "source": [
    "%%time\n",
    "J_TxJ_old_x2 = matrixProduct_2(J_T, J)"
   ]
  },
  {
   "cell_type": "code",
   "execution_count": null,
   "metadata": {},
   "outputs": [],
   "source": []
  }
 ],
 "metadata": {
  "kernelspec": {
   "display_name": "Python 3",
   "language": "python",
   "name": "python3"
  },
  "language_info": {
   "codemirror_mode": {
    "name": "ipython",
    "version": 3
   },
   "file_extension": ".py",
   "mimetype": "text/x-python",
   "name": "python",
   "nbconvert_exporter": "python",
   "pygments_lexer": "ipython3",
   "version": "3.6.6"
  }
 },
 "nbformat": 4,
 "nbformat_minor": 2
}
