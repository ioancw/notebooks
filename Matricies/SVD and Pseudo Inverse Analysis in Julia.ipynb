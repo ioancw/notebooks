{
 "cells": [
  {
   "cell_type": "markdown",
   "metadata": {},
   "source": [
    "Analysis of the SVD in Julia on a simple matrix."
   ]
  },
  {
   "cell_type": "code",
   "execution_count": 1,
   "metadata": {},
   "outputs": [
    {
     "data": {
      "text/plain": [
       "4×5 Array{Int64,2}:\n",
       " 1  0  0  0  2\n",
       " 0  0  3  0  0\n",
       " 0  0  0  0  0\n",
       " 0  4  0  0  0"
      ]
     },
     "execution_count": 1,
     "metadata": {},
     "output_type": "execute_result"
    }
   ],
   "source": [
    "A = [1 0 0 0 2\n",
    "     0 0 3 0 0\n",
    "     0 0 0 0 0\n",
    "     0 4 0 0 0]"
   ]
  },
  {
   "cell_type": "markdown",
   "metadata": {},
   "source": [
    "Unlike the equivalent in Python, svd returns V not V' (V transpose)"
   ]
  },
  {
   "cell_type": "code",
   "execution_count": 2,
   "metadata": {},
   "outputs": [
    {
     "data": {
      "text/plain": [
       "4×4 Array{Float64,2}:\n",
       " 0.0  0.0  1.0   0.0\n",
       " 0.0  1.0  0.0   0.0\n",
       " 0.0  0.0  0.0  -1.0\n",
       " 1.0  0.0  0.0   0.0"
      ]
     },
     "metadata": {},
     "output_type": "display_data"
    },
    {
     "data": {
      "text/plain": [
       "4-element Array{Float64,1}:\n",
       " 4.0    \n",
       " 3.0    \n",
       " 2.23607\n",
       " 0.0    "
      ]
     },
     "metadata": {},
     "output_type": "display_data"
    },
    {
     "data": {
      "text/plain": [
       "5×4 Array{Float64,2}:\n",
       " -0.0  -0.0  0.447214  0.0\n",
       "  1.0   0.0  0.0       0.0\n",
       "  0.0   1.0  0.0       0.0\n",
       " -0.0  -0.0  0.0       1.0\n",
       "  0.0   0.0  0.894427  0.0"
      ]
     },
     "metadata": {},
     "output_type": "display_data"
    }
   ],
   "source": [
    "U, σ, V = svd(A)\n",
    "display(U), display(σ), display(V);"
   ]
  },
  {
   "cell_type": "code",
   "execution_count": 3,
   "metadata": {},
   "outputs": [
    {
     "data": {
      "text/plain": [
       "4×4 Diagonal{Float64}:\n",
       " 4.0   ⋅    ⋅        ⋅ \n",
       "  ⋅   3.0   ⋅        ⋅ \n",
       "  ⋅    ⋅   2.23607   ⋅ \n",
       "  ⋅    ⋅    ⋅       0.0"
      ]
     },
     "execution_count": 3,
     "metadata": {},
     "output_type": "execute_result"
    }
   ],
   "source": [
    "Σ = Diagonal(σ)"
   ]
  },
  {
   "cell_type": "markdown",
   "metadata": {},
   "source": [
    "Now re-create the matrix from the 3 elements returned from the SVD"
   ]
  },
  {
   "cell_type": "code",
   "execution_count": 4,
   "metadata": {},
   "outputs": [
    {
     "data": {
      "text/plain": [
       "4×5 Array{Float64,2}:\n",
       " 1.0  0.0  0.0  0.0  2.0\n",
       " 0.0  0.0  3.0  0.0  0.0\n",
       " 0.0  0.0  0.0  0.0  0.0\n",
       " 0.0  4.0  0.0  0.0  0.0"
      ]
     },
     "execution_count": 4,
     "metadata": {},
     "output_type": "execute_result"
    }
   ],
   "source": [
    "A_2 = U * Σ * V'"
   ]
  },
  {
   "cell_type": "markdown",
   "metadata": {},
   "source": [
    "Now work out the pseudo inverse"
   ]
  },
  {
   "cell_type": "code",
   "execution_count": 5,
   "metadata": {},
   "outputs": [
    {
     "data": {
      "text/plain": [
       "5×4 Array{Float64,2}:\n",
       " 0.2  0.0       0.0  0.0 \n",
       " 0.0  0.0       0.0  0.25\n",
       " 0.0  0.333333  0.0  0.0 \n",
       " 0.0  0.0       0.0  0.0 \n",
       " 0.4  0.0       0.0  0.0 "
      ]
     },
     "execution_count": 5,
     "metadata": {},
     "output_type": "execute_result"
    }
   ],
   "source": [
    "A_inv = pinv(A)"
   ]
  },
  {
   "cell_type": "markdown",
   "metadata": {},
   "source": [
    "Now work out the pseudo inverse manually.\n",
    "First we work out the inverse of Sigma, by inverting the non-zero elements."
   ]
  },
  {
   "cell_type": "code",
   "execution_count": 6,
   "metadata": {},
   "outputs": [
    {
     "data": {
      "text/plain": [
       "4×4 Diagonal{Float64}:\n",
       " 0.25   ⋅         ⋅         ⋅ \n",
       "  ⋅    0.333333   ⋅         ⋅ \n",
       "  ⋅     ⋅        0.447214   ⋅ \n",
       "  ⋅     ⋅         ⋅        0.0"
      ]
     },
     "metadata": {},
     "output_type": "display_data"
    }
   ],
   "source": [
    "Sigma_inv = zeros(Σ, Float64);\n",
    "m, n = size(Σ)\n",
    "for i = 1:m, j = 1:n\n",
    "    if i==j\n",
    "        if Σ[i,j] > 0.0\n",
    "            Sigma_inv[i,j] = 1 / Σ[i,j]\n",
    "        end\n",
    "    end\n",
    "end\n",
    "display(Sigma_inv)"
   ]
  },
  {
   "cell_type": "code",
   "execution_count": 7,
   "metadata": {},
   "outputs": [
    {
     "data": {
      "text/plain": [
       "5×4 Array{Float64,2}:\n",
       " -0.0  -0.0  0.447214  0.0\n",
       "  1.0   0.0  0.0       0.0\n",
       "  0.0   1.0  0.0       0.0\n",
       " -0.0  -0.0  0.0       1.0\n",
       "  0.0   0.0  0.894427  0.0"
      ]
     },
     "metadata": {},
     "output_type": "display_data"
    },
    {
     "data": {
      "text/plain": [
       "4×4 Diagonal{Float64}:\n",
       " 0.25   ⋅         ⋅         ⋅ \n",
       "  ⋅    0.333333   ⋅         ⋅ \n",
       "  ⋅     ⋅        0.447214   ⋅ \n",
       "  ⋅     ⋅         ⋅        0.0"
      ]
     },
     "metadata": {},
     "output_type": "display_data"
    },
    {
     "data": {
      "text/plain": [
       "4×4 Array{Float64,2}:\n",
       " 0.0  0.0   0.0  1.0\n",
       " 0.0  1.0   0.0  0.0\n",
       " 1.0  0.0   0.0  0.0\n",
       " 0.0  0.0  -1.0  0.0"
      ]
     },
     "metadata": {},
     "output_type": "display_data"
    }
   ],
   "source": [
    "display(V)\n",
    "display(Sigma_inv)\n",
    "display(U')"
   ]
  },
  {
   "cell_type": "code",
   "execution_count": 8,
   "metadata": {
    "scrolled": true
   },
   "outputs": [
    {
     "data": {
      "text/plain": [
       "5×4 Array{Float64,2}:\n",
       " 0.2  0.0       0.0  0.0 \n",
       " 0.0  0.0       0.0  0.25\n",
       " 0.0  0.333333  0.0  0.0 \n",
       " 0.0  0.0       0.0  0.0 \n",
       " 0.4  0.0       0.0  0.0 "
      ]
     },
     "execution_count": 8,
     "metadata": {},
     "output_type": "execute_result"
    }
   ],
   "source": [
    "A_inv_2 = V * Sigma_inv * U'"
   ]
  },
  {
   "cell_type": "code",
   "execution_count": 9,
   "metadata": {},
   "outputs": [
    {
     "data": {
      "text/plain": [
       "3-element Array{Float64,1}:\n",
       " 0.25    \n",
       " 0.333333\n",
       " 0.447214"
      ]
     },
     "execution_count": 9,
     "metadata": {},
     "output_type": "execute_result"
    }
   ],
   "source": [
    "test = [1/Σ[i,j] for i = 1:m, j = 1:n if Σ[i,j] > 0]"
   ]
  },
  {
   "cell_type": "markdown",
   "metadata": {},
   "source": [
    "Now, try and find out the pseudo inverse via other means."
   ]
  },
  {
   "cell_type": "code",
   "execution_count": 10,
   "metadata": {},
   "outputs": [
    {
     "data": {
      "text/plain": [
       "5×5 Array{Int64,2}:\n",
       " 1   0  0  0  2\n",
       " 0  16  0  0  0\n",
       " 0   0  9  0  0\n",
       " 0   0  0  0  0\n",
       " 2   0  0  0  4"
      ]
     },
     "execution_count": 10,
     "metadata": {},
     "output_type": "execute_result"
    }
   ],
   "source": [
    "A_TxA = A'*A"
   ]
  },
  {
   "cell_type": "code",
   "execution_count": 11,
   "metadata": {},
   "outputs": [
    {
     "data": {
      "text/plain": [
       "5-element Array{Float64,1}:\n",
       "  0.0        \n",
       "  1.77636e-15\n",
       "  5.0        \n",
       "  9.0        \n",
       " 16.0        "
      ]
     },
     "metadata": {},
     "output_type": "display_data"
    },
    {
     "data": {
      "text/plain": [
       "5×5 Array{Float64,2}:\n",
       "  0.0  -0.894427  0.447214  0.0  0.0\n",
       "  0.0   0.0       0.0       0.0  1.0\n",
       "  0.0   0.0       0.0       1.0  0.0\n",
       " -1.0   0.0       0.0       0.0  0.0\n",
       "  0.0   0.447214  0.894427  0.0  0.0"
      ]
     },
     "metadata": {},
     "output_type": "display_data"
    }
   ],
   "source": [
    "#find eigen values and vectors on A'*A\n",
    "lambda, V = eig(A_TxA)\n",
    "display(lambda)\n",
    "display(V)"
   ]
  },
  {
   "cell_type": "markdown",
   "metadata": {},
   "source": [
    "Now work out the inverse of eigenvalues, within tolerance and then create a diagonal matrix.\n",
    "(A'*A)^-1*A'"
   ]
  },
  {
   "cell_type": "code",
   "execution_count": 12,
   "metadata": {},
   "outputs": [
    {
     "data": {
      "text/plain": [
       "5×5 Diagonal{Float64}:\n",
       " 0.0   ⋅    ⋅    ⋅         ⋅    \n",
       "  ⋅   0.0   ⋅    ⋅         ⋅    \n",
       "  ⋅    ⋅   0.2   ⋅         ⋅    \n",
       "  ⋅    ⋅    ⋅   0.111111   ⋅    \n",
       "  ⋅    ⋅    ⋅    ⋅        0.0625"
      ]
     },
     "execution_count": 12,
     "metadata": {},
     "output_type": "execute_result"
    }
   ],
   "source": [
    "tolerance = 1e-4\n",
    "m=size(lambda)\n",
    "lambda_inv = fill(0.0,m[1])\n",
    "for i in 1:m[1]\n",
    "    if lambda[i] > tolerance\n",
    "        lambda_inv[i] = 1/lambda[i]\n",
    "    end\n",
    "end\n",
    "lambda_inv_diag = Diagonal(lambda_inv)"
   ]
  },
  {
   "cell_type": "code",
   "execution_count": 13,
   "metadata": {},
   "outputs": [
    {
     "data": {
      "text/plain": [
       "5×5 Array{Float64,2}:\n",
       " 0.04  0.0     0.0       0.0  0.08\n",
       " 0.0   0.0625  0.0       0.0  0.0 \n",
       " 0.0   0.0     0.111111  0.0  0.0 \n",
       " 0.0   0.0     0.0       0.0  0.0 \n",
       " 0.08  0.0     0.0       0.0  0.16"
      ]
     },
     "execution_count": 13,
     "metadata": {},
     "output_type": "execute_result"
    }
   ],
   "source": [
    "AA_inv = V * lambda_inv_diag * V'"
   ]
  },
  {
   "cell_type": "code",
   "execution_count": 14,
   "metadata": {},
   "outputs": [
    {
     "data": {
      "text/plain": [
       "5×4 Array{Float64,2}:\n",
       " 0.2  0.0       0.0  0.0 \n",
       " 0.0  0.0       0.0  0.25\n",
       " 0.0  0.333333  0.0  0.0 \n",
       " 0.0  0.0       0.0  0.0 \n",
       " 0.4  0.0       0.0  0.0 "
      ]
     },
     "execution_count": 14,
     "metadata": {},
     "output_type": "execute_result"
    }
   ],
   "source": [
    "A_inv3 = AA_inv * A'"
   ]
  },
  {
   "cell_type": "code",
   "execution_count": null,
   "metadata": {},
   "outputs": [],
   "source": []
  }
 ],
 "metadata": {
  "kernelspec": {
   "display_name": "Julia 0.6.2",
   "language": "julia",
   "name": "julia-0.6"
  },
  "language_info": {
   "file_extension": ".jl",
   "mimetype": "application/julia",
   "name": "julia",
   "version": "0.6.2"
  }
 },
 "nbformat": 4,
 "nbformat_minor": 2
}
