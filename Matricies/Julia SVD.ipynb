{
 "cells": [
  {
   "cell_type": "markdown",
   "metadata": {},
   "source": [
    "### SVD and Pseudo inverse with Julia\n",
    "The purpose of this notebook is to show different ways of calculating the inverse of a matrix for use with solving a least squares problems."
   ]
  },
  {
   "cell_type": "code",
   "execution_count": 1,
   "metadata": {},
   "outputs": [
    {
     "data": {
      "text/plain": [
       "3×4 Array{Float64,2}:\n",
       " 1.0  2.0  3.0  4.0\n",
       " 3.0  4.0  5.0  6.0\n",
       " 3.1  4.1  5.1  6.2"
      ]
     },
     "execution_count": 1,
     "metadata": {},
     "output_type": "execute_result"
    }
   ],
   "source": [
    "J = [1 2 3 4\n",
    "     3 4 5 6\n",
    "     3.1 4.1 5.1 6.2]"
   ]
  },
  {
   "cell_type": "markdown",
   "metadata": {},
   "source": [
    "First work out the svd using Julia inbuilt functions."
   ]
  },
  {
   "cell_type": "code",
   "execution_count": 2,
   "metadata": {},
   "outputs": [
    {
     "data": {
      "text/plain": [
       "3×3 Array{Float64,2}:\n",
       " -0.377181  -0.926135  -0.00284064\n",
       " -0.645797   0.265206  -0.715969  \n",
       " -0.663838   0.268216   0.698126  "
      ]
     },
     "metadata": {},
     "output_type": "display_data",
     "source": "julia"
    },
    {
     "data": {
      "text/plain": [
       "3-element Array{Float64,1}:\n",
       " 14.3552   \n",
       "  0.892362 \n",
       "  0.0382432"
      ]
     },
     "metadata": {},
     "output_type": "display_data",
     "source": "julia"
    },
    {
     "data": {
      "text/plain": [
       "4×3 Array{Float64,2}:\n",
       " -0.304591   0.7855      0.351494\n",
       " -0.422096   0.345416   -0.189356\n",
       " -0.539602  -0.0946675  -0.730206\n",
       " -0.661732  -0.504694    0.554432"
      ]
     },
     "metadata": {},
     "output_type": "display_data",
     "source": "julia"
    }
   ],
   "source": [
    "u, σ, v = svd(J)\n",
    "display(u)\n",
    "display(σ)\n",
    "display(v)"
   ]
  },
  {
   "cell_type": "markdown",
   "metadata": {},
   "source": [
    "Now recombine the components of the svd, in order to get the original matrix J.\n",
    "Note that the Julia svd returns v rather than v' (transpose), which is what numpy does."
   ]
  },
  {
   "cell_type": "code",
   "execution_count": 3,
   "metadata": {},
   "outputs": [
    {
     "data": {
      "text/plain": [
       "3×4 Array{Float64,2}:\n",
       " 1.0  2.0  3.0  4.0\n",
       " 3.0  4.0  5.0  6.0\n",
       " 3.1  4.1  5.1  6.2"
      ]
     },
     "execution_count": 3,
     "metadata": {},
     "output_type": "execute_result"
    }
   ],
   "source": [
    "#recombine for form the original matrix.\n",
    "#remeber the Julia svd doesn't return v' just v\n",
    "Σ = Diagonal(σ)\n",
    "J_1 = u * Σ * v'"
   ]
  },
  {
   "cell_type": "markdown",
   "metadata": {},
   "source": [
    "### Pseudo Inverse\n",
    "We now look at different ways of calculating the Pseudo Inverse.\n",
    "* pinv built in Julia function without a tolerance\n",
    "* manually calculate the pinv, by inverting Sigma without any tolerance\n",
    "* manually calculate the pinv, by inverting Sigma using a tolerance to work out the rank\n",
    "* pinv built in Julia fuction with a tolerance"
   ]
  },
  {
   "cell_type": "markdown",
   "metadata": {},
   "source": [
    "Using pinv in Julia without a tolerance"
   ]
  },
  {
   "cell_type": "code",
   "execution_count": 4,
   "metadata": {},
   "outputs": [
    {
     "data": {
      "text/plain": [
       "4×3 Array{Float64,2}:\n",
       " -0.833333   -6.33333    6.66667\n",
       " -0.333333    3.66667   -3.33333\n",
       "  0.166667   13.6667   -13.3333 \n",
       "  0.5       -10.5       10.0    "
      ]
     },
     "execution_count": 4,
     "metadata": {},
     "output_type": "execute_result"
    }
   ],
   "source": [
    "pseudoInverse = pinv(J)"
   ]
  },
  {
   "cell_type": "markdown",
   "metadata": {},
   "source": [
    "Manual calculation inverting Sigma without a tolerance"
   ]
  },
  {
   "cell_type": "code",
   "execution_count": 5,
   "metadata": {},
   "outputs": [
    {
     "data": {
      "text/plain": [
       "3×3 Diagonal{Float64}:\n",
       " 14.3552   ⋅         ⋅       \n",
       "   ⋅      0.892362   ⋅       \n",
       "   ⋅       ⋅        0.0382432"
      ]
     },
     "metadata": {},
     "output_type": "display_data",
     "source": "julia"
    },
    {
     "data": {
      "text/plain": [
       "3×3 Diagonal{Float64}:\n",
       " 0.0696611   ⋅         ⋅    \n",
       "  ⋅         1.12062    ⋅    \n",
       "  ⋅          ⋅       26.1484"
      ]
     },
     "metadata": {},
     "output_type": "display_data",
     "source": "julia"
    },
    {
     "data": {
      "text/plain": [
       "4×3 Array{Float64,2}:\n",
       " -0.833333   -6.33333    6.66667\n",
       " -0.333333    3.66667   -3.33333\n",
       "  0.166667   13.6667   -13.3333 \n",
       "  0.5       -10.5       10.0    "
      ]
     },
     "execution_count": 5,
     "metadata": {},
     "output_type": "execute_result"
    }
   ],
   "source": [
    "display(Σ)\n",
    "m, n = size(Σ)\n",
    "Σ_inv = zeros(Σ, Float64)\n",
    "tol = 0.0027\n",
    "for i = 1:m, j = 1:m\n",
    "    if i==j && Σ[i,j] >= tol\n",
    "        Σ_inv[i,j] = 1/Σ[i,j]\n",
    "    end\n",
    "end\n",
    "display(Σ_inv)\n",
    "J_inv = v * Σ_inv * u'"
   ]
  },
  {
   "cell_type": "markdown",
   "metadata": {},
   "source": [
    "Manually work out the inverse of Sigma using a tolerance"
   ]
  },
  {
   "cell_type": "code",
   "execution_count": 6,
   "metadata": {},
   "outputs": [
    {
     "data": {
      "text/plain": [
       "4×3 Array{Float64,2}:\n",
       " -0.807225   0.247149     0.250181  \n",
       " -0.347398   0.121645     0.12334   \n",
       "  0.112428  -0.00385969  -0.00350087\n",
       "  0.541182  -0.120223    -0.121094  "
      ]
     },
     "execution_count": 6,
     "metadata": {},
     "output_type": "execute_result"
    }
   ],
   "source": [
    "#work out the rank of the 'singular values'\n",
    "rank = sum(σ.> tol * maximum(σ))\n",
    "σ_rank_inv = [ 1/x for x in σ[1:rank]]\n",
    "Σ_rank_inv = Diagonal(σ_rank_inv)\n",
    "J_inv = v[:,1:rank] * Σ_rank_inv * u'[1:rank,:]"
   ]
  },
  {
   "cell_type": "markdown",
   "metadata": {},
   "source": [
    "Julia pinv using a tolerance"
   ]
  },
  {
   "cell_type": "code",
   "execution_count": 7,
   "metadata": {},
   "outputs": [
    {
     "data": {
      "text/plain": [
       "4×3 Array{Float64,2}:\n",
       " -0.807225   0.247149     0.250181  \n",
       " -0.347398   0.121645     0.12334   \n",
       "  0.112428  -0.00385969  -0.00350087\n",
       "  0.541182  -0.120223    -0.121094  "
      ]
     },
     "execution_count": 7,
     "metadata": {},
     "output_type": "execute_result"
    }
   ],
   "source": [
    "pseudoInverse = pinv(J, tol)"
   ]
  },
  {
   "cell_type": "markdown",
   "metadata": {},
   "source": [
    "### Using Eigendecomposition\n",
    "We want to find the solution to $A \\hat{x} = b $\n",
    "\n",
    "$$ A^T A \\hat{x} = A^T b $$\n",
    "$$ \\hat{x} = (A^T A)^{-1} A^T b $$\n",
    "\n",
    "We want to find $(A^T A)^{-1} A^T$, which we'll call the pseudo inverse.\n",
    "\n",
    "In order to find $(A^T A)^{-1}$ we use the eigendecomposition.\n",
    "\n",
    "$(A^T A)^{-1} = U \\Sigma^{-1} U^T$\n",
    "\n",
    "where\n",
    "\n",
    "$U$ = eigenvectors of $A^T A$\n",
    "\n",
    "$\\Sigma$ = eigenvaluues of $A^T A$\n",
    "\n",
    "Note that the eigenvalues of $A^T A$ are the square of the eigen values of $A$"
   ]
  },
  {
   "cell_type": "code",
   "execution_count": 8,
   "metadata": {},
   "outputs": [
    {
     "data": {
      "text/plain": [
       "4-element Array{Float64,1}:\n",
       "   1.11022e-16\n",
       "   0.00146255 \n",
       "   0.79631    \n",
       " 206.072      "
      ]
     },
     "metadata": {},
     "output_type": "display_data",
     "source": "julia"
    },
    {
     "data": {
      "text/plain": [
       "4×4 Array{Float64,2}:\n",
       "  0.408248  -0.351494  -0.7855     0.304591\n",
       " -0.816497   0.189356  -0.345416   0.422096\n",
       "  0.408248   0.730206   0.0946675  0.539602\n",
       "  0.0       -0.554432   0.504694   0.661732"
      ]
     },
     "metadata": {},
     "output_type": "display_data",
     "source": "julia"
    }
   ],
   "source": [
    "λ, V = eig(J'*J)\n",
    "display(λ)\n",
    "display(V)"
   ]
  },
  {
   "cell_type": "code",
   "execution_count": 9,
   "metadata": {},
   "outputs": [
    {
     "data": {
      "text/plain": [
       "4-element Array{Float64,1}:\n",
       "   1.11022e-16\n",
       "   0.00146255 \n",
       "   0.79631    \n",
       " 206.072      "
      ]
     },
     "execution_count": 9,
     "metadata": {},
     "output_type": "execute_result"
    }
   ],
   "source": [
    "λ |> sort"
   ]
  },
  {
   "cell_type": "code",
   "execution_count": 10,
   "metadata": {},
   "outputs": [
    {
     "data": {
      "text/plain": [
       "3-element Array{Float64,1}:\n",
       "   0.00146255\n",
       "   0.79631   \n",
       " 206.072     "
      ]
     },
     "execution_count": 10,
     "metadata": {},
     "output_type": "execute_result"
    }
   ],
   "source": [
    "svdvals(J).^2 |> sort"
   ]
  },
  {
   "cell_type": "code",
   "execution_count": 11,
   "metadata": {},
   "outputs": [
    {
     "data": {
      "text/plain": [
       "4-element Array{Float64,1}:\n",
       "  1.05367e-8\n",
       "  0.0382432 \n",
       "  0.892362  \n",
       " 14.3552    "
      ]
     },
     "execution_count": 11,
     "metadata": {},
     "output_type": "execute_result"
    }
   ],
   "source": [
    "eigvals(J'*J).^0.5"
   ]
  },
  {
   "cell_type": "code",
   "execution_count": 12,
   "metadata": {},
   "outputs": [
    {
     "data": {
      "text/plain": [
       "3×3 Array{Float64,2}:\n",
       " -0.00284064   0.926135  -0.377181\n",
       " -0.715969    -0.265206  -0.645797\n",
       "  0.698126    -0.268216  -0.663838"
      ]
     },
     "execution_count": 12,
     "metadata": {},
     "output_type": "execute_result"
    }
   ],
   "source": [
    "V2 = eigvecs(J*J')"
   ]
  },
  {
   "cell_type": "code",
   "execution_count": 13,
   "metadata": {},
   "outputs": [
    {
     "data": {
      "text/plain": [
       "3-element Array{Float64,1}:\n",
       "   0.00146255\n",
       "   0.79631   \n",
       " 206.072     "
      ]
     },
     "execution_count": 13,
     "metadata": {},
     "output_type": "execute_result"
    }
   ],
   "source": [
    "λ_rank = λ[2:end]"
   ]
  },
  {
   "cell_type": "code",
   "execution_count": 14,
   "metadata": {},
   "outputs": [
    {
     "data": {
      "text/plain": [
       "4×3 Array{Float64,2}:\n",
       " -0.351494  -0.7855     0.304591\n",
       "  0.189356  -0.345416   0.422096\n",
       "  0.730206   0.0946675  0.539602\n",
       " -0.554432   0.504694   0.661732"
      ]
     },
     "execution_count": 14,
     "metadata": {},
     "output_type": "execute_result"
    }
   ],
   "source": [
    "V_rank = V[:,2:end]"
   ]
  },
  {
   "cell_type": "markdown",
   "metadata": {},
   "source": [
    "Recombine the J'*J from the the eigen decomposition"
   ]
  },
  {
   "cell_type": "code",
   "execution_count": 15,
   "metadata": {},
   "outputs": [
    {
     "data": {
      "text/plain": [
       "4×4 Array{Float64,2}:\n",
       " 19.61  26.71  33.81  41.22\n",
       " 26.71  36.81  46.91  57.42\n",
       " 33.81  46.91  60.01  73.62\n",
       " 41.22  57.42  73.62  90.44"
      ]
     },
     "execution_count": 15,
     "metadata": {},
     "output_type": "execute_result"
    }
   ],
   "source": [
    "J_TxJ = V_rank * Diagonal(λ_rank) * V_rank'"
   ]
  },
  {
   "cell_type": "markdown",
   "metadata": {},
   "source": [
    "Now work out the the inverse of J using the eigen decomposition"
   ]
  },
  {
   "cell_type": "code",
   "execution_count": 16,
   "metadata": {},
   "outputs": [],
   "source": [
    "function invertEigenValues(λ)\n",
    "    λ_inv = [(abs(x/λ[end]))^0.5 >=tol ? 1/x : 0 for x in λ]\n",
    "    Diagonal(λ_inv)\n",
    "end;"
   ]
  },
  {
   "cell_type": "code",
   "execution_count": 17,
   "metadata": {},
   "outputs": [
    {
     "data": {
      "text/plain": [
       "4×3 Array{Real,2}:\n",
       " -0.807225   0.247149     0.250181  \n",
       " -0.347398   0.121645     0.12334   \n",
       "  0.112428  -0.00385969  -0.00350087\n",
       "  0.541182  -0.120223    -0.121094  "
      ]
     },
     "execution_count": 17,
     "metadata": {},
     "output_type": "execute_result"
    }
   ],
   "source": [
    "λ_inv = invertEigenValues(λ)\n",
    "J_inv = V * λ_inv * V' * J'"
   ]
  },
  {
   "cell_type": "code",
   "execution_count": 18,
   "metadata": {},
   "outputs": [
    {
     "data": {
      "text/plain": [
       "4×4 Array{Float64,2}:\n",
       " -0.304591  -0.7855      0.351494  -0.408248   \n",
       " -0.422096  -0.345416   -0.189356   0.816497   \n",
       " -0.539602   0.0946675  -0.730206  -0.408248   \n",
       " -0.661732   0.504694    0.554432  -9.49768e-13"
      ]
     },
     "metadata": {},
     "output_type": "display_data",
     "source": "julia"
    },
    {
     "data": {
      "text/plain": [
       "4-element Array{Float64,1}:\n",
       " 206.072     \n",
       "   0.79631   \n",
       "   0.00146255\n",
       "   4.9016e-16"
      ]
     },
     "metadata": {},
     "output_type": "display_data",
     "source": "julia"
    },
    {
     "data": {
      "text/plain": [
       "4×4 Array{Float64,2}:\n",
       " -0.304591  -0.7855      0.351494   0.408248 \n",
       " -0.422096  -0.345416   -0.189356  -0.816497 \n",
       " -0.539602   0.0946675  -0.730206   0.408248 \n",
       " -0.661732   0.504694    0.554432   1.254e-13"
      ]
     },
     "metadata": {},
     "output_type": "display_data",
     "source": "julia"
    }
   ],
   "source": [
    "a, b, c = svd(J'*J)\n",
    "display(a)\n",
    "display(b)\n",
    "display(c)"
   ]
  },
  {
   "cell_type": "code",
   "execution_count": 19,
   "metadata": {},
   "outputs": [
    {
     "data": {
      "text/plain": [
       "3×3 Array{Float64,2}:\n",
       " -0.00284064   0.926135  -0.377181\n",
       " -0.715969    -0.265206  -0.645797\n",
       "  0.698126    -0.268216  -0.663838"
      ]
     },
     "execution_count": 19,
     "metadata": {},
     "output_type": "execute_result"
    }
   ],
   "source": [
    "vecs = eigvecs(J*J')"
   ]
  },
  {
   "cell_type": "code",
   "execution_count": 20,
   "metadata": {},
   "outputs": [
    {
     "data": {
      "text/plain": [
       "3×3 Array{Float64,2}:\n",
       " -0.377181  -0.926135  -0.00284064\n",
       " -0.645797   0.265206  -0.715969  \n",
       " -0.663838   0.268216   0.698126  "
      ]
     },
     "metadata": {},
     "output_type": "display_data",
     "source": "julia"
    },
    {
     "data": {
      "text/plain": [
       "3-element Array{Float64,1}:\n",
       " 14.3552   \n",
       "  0.892362 \n",
       "  0.0382432"
      ]
     },
     "metadata": {},
     "output_type": "display_data",
     "source": "julia"
    },
    {
     "data": {
      "text/plain": [
       "4×3 Array{Float64,2}:\n",
       " -0.304591   0.7855      0.351494\n",
       " -0.422096   0.345416   -0.189356\n",
       " -0.539602  -0.0946675  -0.730206\n",
       " -0.661732  -0.504694    0.554432"
      ]
     },
     "metadata": {},
     "output_type": "display_data",
     "source": "julia"
    }
   ],
   "source": [
    "u, σ, v = svd(J)\n",
    "display(u)\n",
    "display(σ)\n",
    "display(v)"
   ]
  },
  {
   "cell_type": "code",
   "execution_count": 21,
   "metadata": {},
   "outputs": [
    {
     "data": {
      "text/plain": [
       "4-element Array{Float64,1}:\n",
       "   1.11022e-16\n",
       "   0.00146255 \n",
       "   0.79631    \n",
       " 206.072      "
      ]
     },
     "metadata": {},
     "output_type": "display_data",
     "source": "julia"
    },
    {
     "data": {
      "text/plain": [
       "4×4 Array{Float64,2}:\n",
       "  0.408248  -0.351494  -0.7855     0.304591\n",
       " -0.816497   0.189356  -0.345416   0.422096\n",
       "  0.408248   0.730206   0.0946675  0.539602\n",
       "  0.0       -0.554432   0.504694   0.661732"
      ]
     },
     "metadata": {},
     "output_type": "display_data",
     "source": "julia"
    }
   ],
   "source": [
    "#eigen values are the squares of the singular values (from the svd)\n",
    "λ, V = eig(J'*J)\n",
    "display(λ)\n",
    "display(V)"
   ]
  },
  {
   "cell_type": "code",
   "execution_count": 22,
   "metadata": {},
   "outputs": [
    {
     "data": {
      "text/plain": [
       "4×4 Array{Float64,2}:\n",
       "  0.408248  -0.816497  0.408248    0.0     \n",
       " -0.351494   0.189356  0.730206   -0.554432\n",
       " -0.7855    -0.345416  0.0946675   0.504694\n",
       "  0.304591   0.422096  0.539602    0.661732"
      ]
     },
     "execution_count": 22,
     "metadata": {},
     "output_type": "execute_result"
    }
   ],
   "source": [
    "V'"
   ]
  },
  {
   "cell_type": "code",
   "execution_count": 23,
   "metadata": {},
   "outputs": [
    {
     "data": {
      "text/plain": [
       "4×4 Array{Float64,2}:\n",
       " 19.61  26.71  33.81  41.22\n",
       " 26.71  36.81  46.91  57.42\n",
       " 33.81  46.91  60.01  73.62\n",
       " 41.22  57.42  73.62  90.44"
      ]
     },
     "execution_count": 23,
     "metadata": {},
     "output_type": "execute_result"
    }
   ],
   "source": [
    "J'*J"
   ]
  },
  {
   "cell_type": "code",
   "execution_count": 24,
   "metadata": {},
   "outputs": [
    {
     "data": {
      "text/plain": [
       "4×4 Array{Float64,2}:\n",
       " 19.61  26.71  33.81  41.22\n",
       " 26.71  36.81  46.91  57.42\n",
       " 33.81  46.91  60.01  73.62\n",
       " 41.22  57.42  73.62  90.44"
      ]
     },
     "execution_count": 24,
     "metadata": {},
     "output_type": "execute_result"
    }
   ],
   "source": [
    "#eigen value decomposition to reform J'*J\n",
    "V*Diagonal(λ)*V' # = J'*J"
   ]
  },
  {
   "cell_type": "markdown",
   "metadata": {},
   "source": [
    "See the following article.\n",
    "https://en.wikipedia.org/wiki/Eigendecomposition_of_a_matrix"
   ]
  },
  {
   "cell_type": "markdown",
   "metadata": {},
   "source": [
    "Point to note is that the inverse of V, i.e. the eigen vectors of J'*J is the same as taking the transpose of V, i.e. V'.  Generally is the transpose of a symmetric matrix equal to its inverse?"
   ]
  },
  {
   "cell_type": "code",
   "execution_count": 25,
   "metadata": {},
   "outputs": [
    {
     "data": {
      "text/plain": [
       "4×4 Array{Float64,2}:\n",
       "  0.408248  -0.816497  0.408248   -3.67335e-17\n",
       " -0.351494   0.189356  0.730206   -0.554432   \n",
       " -0.7855    -0.345416  0.0946675   0.504694   \n",
       "  0.304591   0.422096  0.539602    0.661732   "
      ]
     },
     "execution_count": 25,
     "metadata": {},
     "output_type": "execute_result"
    }
   ],
   "source": [
    "inv(V)"
   ]
  },
  {
   "cell_type": "code",
   "execution_count": 26,
   "metadata": {},
   "outputs": [
    {
     "data": {
      "text/plain": [
       "4×4 Array{Float64,2}:\n",
       "  0.408248  -0.816497  0.408248    0.0     \n",
       " -0.351494   0.189356  0.730206   -0.554432\n",
       " -0.7855    -0.345416  0.0946675   0.504694\n",
       "  0.304591   0.422096  0.539602    0.661732"
      ]
     },
     "execution_count": 26,
     "metadata": {},
     "output_type": "execute_result"
    }
   ],
   "source": [
    "V'"
   ]
  },
  {
   "cell_type": "code",
   "execution_count": 27,
   "metadata": {},
   "outputs": [
    {
     "data": {
      "text/plain": [
       "4×4 Array{Float64,2}:\n",
       "  0.408248  -0.351494  -0.7855     0.304591\n",
       " -0.816497   0.189356  -0.345416   0.422096\n",
       "  0.408248   0.730206   0.0946675  0.539602\n",
       "  0.0       -0.554432   0.504694   0.661732"
      ]
     },
     "execution_count": 27,
     "metadata": {},
     "output_type": "execute_result"
    }
   ],
   "source": [
    "V"
   ]
  },
  {
   "cell_type": "code",
   "execution_count": 28,
   "metadata": {},
   "outputs": [
    {
     "data": {
      "text/plain": [
       "4×4 Array{Float64,2}:\n",
       "  0.408248  -0.351494  -0.7855     0.304591\n",
       " -0.816497   0.189356  -0.345416   0.422096\n",
       "  0.408248   0.730206   0.0946675  0.539602\n",
       "  0.0       -0.554432   0.504694   0.661732"
      ]
     },
     "execution_count": 28,
     "metadata": {},
     "output_type": "execute_result"
    }
   ],
   "source": [
    "#Some other stuff with matrices\n",
    "V"
   ]
  },
  {
   "cell_type": "code",
   "execution_count": 29,
   "metadata": {},
   "outputs": [
    {
     "data": {
      "text/plain": [
       "4×2 Array{Float64,2}:\n",
       " -0.351494   0.408248\n",
       "  0.189356  -0.816497\n",
       "  0.730206   0.408248\n",
       " -0.554432   0.0     "
      ]
     },
     "execution_count": 29,
     "metadata": {},
     "output_type": "execute_result"
    }
   ],
   "source": [
    "#2nd row\n",
    "V[2,:]\n",
    "#3rd column\n",
    "V[:,3]\n",
    "#columns 1 to 3\n",
    "V[:,1:3]\n",
    "#columns 2 to end\n",
    "V[:,2:end]\n",
    "#reverse columns 2 to end\n",
    "V[:,2:-1:1]"
   ]
  },
  {
   "cell_type": "code",
   "execution_count": 30,
   "metadata": {},
   "outputs": [
    {
     "data": {
      "text/plain": [
       "4.710277376051325e-16"
      ]
     },
     "execution_count": 30,
     "metadata": {},
     "output_type": "execute_result"
    }
   ],
   "source": [
    "b = rand(5,1)\n",
    "A = rand(5,5)\n",
    "x = inv(A)*b\n",
    "norm(A*x-b)  # check residual"
   ]
  },
  {
   "cell_type": "code",
   "execution_count": null,
   "metadata": {},
   "outputs": [],
   "source": []
  }
 ],
 "metadata": {
  "kernelspec": {
   "display_name": "Julia 0.6.2",
   "language": "julia",
   "name": "julia-0.6"
  },
  "language_info": {
   "file_extension": ".jl",
   "mimetype": "application/julia",
   "name": "julia",
   "version": "0.6.2"
  }
 },
 "nbformat": 4,
 "nbformat_minor": 2
}
