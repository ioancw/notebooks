{
 "cells": [
  {
   "cell_type": "code",
   "execution_count": 2,
   "metadata": {},
   "outputs": [
    {
     "data": {
      "text/plain": [
       "1100×2294 Array{Float64,2}:\n",
       "  0.000171279   0.000177118   0.000182632  …   0.0           0.0        \n",
       "  0.0003985     0.000401833   0.000405785      0.0           0.0        \n",
       "  0.000123087   0.000127942   0.000132478      0.0           0.0        \n",
       "  0.000673129   0.000670708   0.0006704        0.0           0.0        \n",
       " -0.000632633  -0.00396736   -0.00516357       0.0           0.0        \n",
       "  0.000560845  -0.00528265   -0.00676993   …   0.0           0.0        \n",
       "  5.04201e-5    0.00322492   -0.000558592      0.0           0.0        \n",
       "  3.48375e-6    0.000235986   0.00061456       0.0           0.0        \n",
       "  2.87578e-7    3.55448e-5   -1.26511e-6       0.0           0.0        \n",
       " -2.03115e-6   -0.00025433    1.86764e-5       0.0           0.0        \n",
       " -3.74286e-8   -4.61496e-6   -3.21009e-7   …   0.0           0.0        \n",
       " -3.09865e-10  -3.49862e-8   -2.93038e-8       0.0           0.0        \n",
       " -1.66885e-12  -2.12461e-10   5.89595e-11      0.0           0.0        \n",
       "  ⋮                                        ⋱                            \n",
       "  0.0           0.0           0.0              2.4062e-8     0.000171592\n",
       "  0.0           0.0           0.0             -2.72269e-12   3.18735e-10\n",
       "  0.0           0.0           0.0          …  -1.52061e-8    1.78013e-6 \n",
       "  0.0           0.0           0.0             -1.47314e-8    1.72455e-6 \n",
       "  0.0           0.0           0.0             -8.07947e-6   -0.000572328\n",
       "  0.0           0.0           0.0             -2.50116e-8    2.92802e-6 \n",
       "  0.0           0.0           0.0             -2.31729e-8    2.71277e-6 \n",
       "  0.0           0.0           0.0          …   6.59316e-8    0.000546535\n",
       "  0.0           0.0           0.0              1.35947e-12  -1.59148e-10\n",
       "  0.0           0.0           0.0              0.000302302   6.03455e-7 \n",
       "  0.0           0.0           0.0              1.12276e-7    1.60714e-6 \n",
       "  0.0           0.0           0.0              1.51242e-12   4.14254e-6 "
      ]
     },
     "execution_count": 2,
     "metadata": {},
     "output_type": "execute_result"
    }
   ],
   "source": [
    "J = readdlm(\"matrix-large.csv\",',') #or you can just use readcsv"
   ]
  },
  {
   "cell_type": "code",
   "execution_count": 3,
   "metadata": {},
   "outputs": [
    {
     "data": {
      "text/plain": [
       "(1100, 2294)"
      ]
     },
     "execution_count": 3,
     "metadata": {},
     "output_type": "execute_result"
    }
   ],
   "source": [
    "size(J)"
   ]
  },
  {
   "cell_type": "code",
   "execution_count": 4,
   "metadata": {},
   "outputs": [
    {
     "name": "stdout",
     "output_type": "stream",
     "text": [
      "  0.625119 seconds (260.39 k allocations: 52.411 MiB)\n"
     ]
    },
    {
     "data": {
      "text/plain": [
       "2294×2294 Array{Float64,2}:\n",
       "  2.53054       0.535249     -0.0921844    …   0.0           0.0       \n",
       "  0.535249      2.08347       0.746907         0.0           0.0       \n",
       " -0.0921844     0.746907      2.81507          0.0           0.0       \n",
       " -0.242716      0.504874      1.11945          0.0           0.0       \n",
       " -0.188125      0.153412      0.512837         0.0           0.0       \n",
       " -0.0796591    -0.169781     -0.0969151    …   0.0           0.0       \n",
       " -0.00129818   -0.00117484   -0.00107137       0.0           0.0       \n",
       " -0.00142117   -0.00129193   -0.00118367       0.0           0.0       \n",
       " -0.000480675  -0.000436588  -0.000399645      0.0           0.0       \n",
       " -0.000544161  -0.000492209  -0.000448617      0.0           0.0       \n",
       " -0.0672556    -0.0581053    -0.0499754    …   0.0           0.0       \n",
       " -0.0542315    -0.0477752    -0.041364         0.0           0.0       \n",
       " -0.00115619   -0.00104041   -0.000943107      0.0           0.0       \n",
       "  ⋮                                        ⋱                           \n",
       "  0.0           0.0           0.0              0.0766584    -0.0117318 \n",
       "  0.0           0.0           0.0             -0.00102967   -0.0258036 \n",
       "  0.0           0.0           0.0              0.0270209    -0.0631913 \n",
       "  0.0           0.0           0.0          …   0.0576404    -0.0126657 \n",
       "  0.0           0.0           0.0             -0.000803819  -0.020412  \n",
       "  0.0           0.0           0.0             -0.00798379   -0.0774941 \n",
       "  0.0           0.0           0.0              0.696156     -0.00332891\n",
       "  0.0           0.0           0.0             -0.00666826    0.0512453 \n",
       "  0.0           0.0           0.0          …  -0.00576525    0.258411  \n",
       "  0.0           0.0           0.0             -0.00508441    0.689743  \n",
       "  0.0           0.0           0.0              1.07636      -0.00455098\n",
       "  0.0           0.0           0.0             -0.00455098    2.36827   "
      ]
     },
     "execution_count": 4,
     "metadata": {},
     "output_type": "execute_result"
    }
   ],
   "source": [
    "@time J'*J"
   ]
  },
  {
   "cell_type": "code",
   "execution_count": 5,
   "metadata": {},
   "outputs": [],
   "source": [
    "function matmul_ijk(A,B)\n",
    "   m,n = size(A)\n",
    "   n2,p = size(B)\n",
    "   if n≠n2 error(\"No good, n=$n ≠ n2=$(n2)\") end\n",
    "   \n",
    "   C = fill(0.0,m,p)\n",
    "    \n",
    "   for i=1:m, j=1:p, k=1:n\n",
    "          C[i,j] += A[i,k]*B[k,j]\n",
    "   end\n",
    "    \n",
    "   return C  \n",
    "end;"
   ]
  },
  {
   "cell_type": "code",
   "execution_count": 6,
   "metadata": {},
   "outputs": [
    {
     "ename": "LoadError",
     "evalue": "\u001b[91mArgumentError: Module BenchmarkTools not found in current path.\nRun `Pkg.add(\"BenchmarkTools\")` to install the BenchmarkTools package.\u001b[39m",
     "output_type": "error",
     "traceback": [
      "\u001b[91mArgumentError: Module BenchmarkTools not found in current path.\nRun `Pkg.add(\"BenchmarkTools\")` to install the BenchmarkTools package.\u001b[39m",
      "",
      "Stacktrace:",
      " [1] \u001b[1m_require\u001b[22m\u001b[22m\u001b[1m(\u001b[22m\u001b[22m::Symbol\u001b[1m)\u001b[22m\u001b[22m at \u001b[1m./loading.jl:435\u001b[22m\u001b[22m",
      " [2] \u001b[1mrequire\u001b[22m\u001b[22m\u001b[1m(\u001b[22m\u001b[22m::Symbol\u001b[1m)\u001b[22m\u001b[22m at \u001b[1m./loading.jl:405\u001b[22m\u001b[22m",
      " [3] \u001b[1minclude_string\u001b[22m\u001b[22m\u001b[1m(\u001b[22m\u001b[22m::String, ::String\u001b[1m)\u001b[22m\u001b[22m at \u001b[1m./loading.jl:522\u001b[22m\u001b[22m"
     ]
    }
   ],
   "source": [
    "#Pkg.add(\"BenchmarkTools\")\n",
    "using BenchmarkTools # a useful package of benchmarking utilities\n",
    "versioninfo() # a useful function to print out information about the machine"
   ]
  },
  {
   "cell_type": "code",
   "execution_count": 7,
   "metadata": {},
   "outputs": [
    {
     "name": "stdout",
     "output_type": "stream",
     "text": [
      " 30.181009 seconds (37.62 k allocations: 61.399 MiB, 0.04% gc time)\n"
     ]
    },
    {
     "data": {
      "text/plain": [
       "2294×2294 Array{Float64,2}:\n",
       "  2.53054       0.535249     -0.0921844    …   0.0           0.0       \n",
       "  0.535249      2.08347       0.746907         0.0           0.0       \n",
       " -0.0921844     0.746907      2.81507          0.0           0.0       \n",
       " -0.242716      0.504874      1.11945          0.0           0.0       \n",
       " -0.188125      0.153412      0.512837         0.0           0.0       \n",
       " -0.0796591    -0.169781     -0.0969151    …   0.0           0.0       \n",
       " -0.00129818   -0.00117484   -0.00107137       0.0           0.0       \n",
       " -0.00142117   -0.00129193   -0.00118367       0.0           0.0       \n",
       " -0.000480675  -0.000436588  -0.000399645      0.0           0.0       \n",
       " -0.000544161  -0.000492209  -0.000448617      0.0           0.0       \n",
       " -0.0672556    -0.0581053    -0.0499754    …   0.0           0.0       \n",
       " -0.0542315    -0.0477752    -0.041364         0.0           0.0       \n",
       " -0.00115619   -0.00104041   -0.000943107      0.0           0.0       \n",
       "  ⋮                                        ⋱                           \n",
       "  0.0           0.0           0.0              0.0766584    -0.0117318 \n",
       "  0.0           0.0           0.0             -0.00102967   -0.0258036 \n",
       "  0.0           0.0           0.0              0.0270209    -0.0631913 \n",
       "  0.0           0.0           0.0          …   0.0576404    -0.0126657 \n",
       "  0.0           0.0           0.0             -0.000803819  -0.020412  \n",
       "  0.0           0.0           0.0             -0.00798379   -0.0774941 \n",
       "  0.0           0.0           0.0              0.696156     -0.00332891\n",
       "  0.0           0.0           0.0             -0.00666826    0.0512453 \n",
       "  0.0           0.0           0.0          …  -0.00576525    0.258411  \n",
       "  0.0           0.0           0.0             -0.00508441    0.689743  \n",
       "  0.0           0.0           0.0              1.07636      -0.00455098\n",
       "  0.0           0.0           0.0             -0.00455098    2.36827   "
      ]
     },
     "execution_count": 7,
     "metadata": {},
     "output_type": "execute_result"
    }
   ],
   "source": [
    "@time matmul_ijk(J',J) #not that on my iMAC this was 25 seconds"
   ]
  },
  {
   "cell_type": "code",
   "execution_count": 7,
   "metadata": {},
   "outputs": [],
   "source": [
    "function matmul_kij(A,B)\n",
    "   m,n = size(A)\n",
    "   n2,p = size(B)\n",
    "   if n≠n2 error(\"No good, n=$n ≠ n2=$(n2)\") end\n",
    "   \n",
    "   C = fill(0.0,m,p)\n",
    "    \n",
    "   for k=1:n, i=1:m, j=1:p\n",
    "          C[i,j] += A[i,k]*B[k,j]\n",
    "   end\n",
    "    \n",
    "   return C  \n",
    "end;"
   ]
  },
  {
   "cell_type": "code",
   "execution_count": null,
   "metadata": {},
   "outputs": [],
   "source": [
    "@time matmul_kij(J',J)"
   ]
  },
  {
   "cell_type": "code",
   "execution_count": null,
   "metadata": {},
   "outputs": [],
   "source": [
    "function matmul_jki(A,B)\n",
    "   m,n = size(A)\n",
    "   n2,p = size(B)\n",
    "   if n≠n2 error(\"No good, n=$n ≠ n2=$(n2)\") end\n",
    "   \n",
    "   C = fill(0.0,m,p)\n",
    "    \n",
    "   for j=1:p,k=1:n, i=1:m\n",
    "          C[i,j] += A[i,k]*B[k,j]\n",
    "   end\n",
    "    \n",
    "   return C  \n",
    "end;"
   ]
  },
  {
   "cell_type": "code",
   "execution_count": null,
   "metadata": {},
   "outputs": [],
   "source": [
    "@time matmul_jki(J',J)"
   ]
  },
  {
   "cell_type": "code",
   "execution_count": null,
   "metadata": {},
   "outputs": [],
   "source": [
    "function matmul_jik(A,B)\n",
    "   m,n = size(A)\n",
    "   n2,p = size(B)\n",
    "   if n≠n2 error(\"No good, n=$n ≠ n2=$(n2)\") end\n",
    "   \n",
    "   C = fill(0.0,m,p)\n",
    "    \n",
    "   for j=1:p,i=1:m,k=1:n\n",
    "         @simd C[i,j] += A[i,k]*B[k,j]\n",
    "   end\n",
    "    \n",
    "   return C  \n",
    "end;"
   ]
  },
  {
   "cell_type": "code",
   "execution_count": null,
   "metadata": {},
   "outputs": [],
   "source": [
    "@time matmul_jik(J',J)"
   ]
  },
  {
   "cell_type": "code",
   "execution_count": null,
   "metadata": {},
   "outputs": [],
   "source": []
  }
 ],
 "metadata": {
  "kernelspec": {
   "display_name": "Julia 0.6.2",
   "language": "julia",
   "name": "julia-0.6"
  },
  "language_info": {
   "file_extension": ".jl",
   "mimetype": "application/julia",
   "name": "julia",
   "version": "0.6.2"
  }
 },
 "nbformat": 4,
 "nbformat_minor": 2
}
