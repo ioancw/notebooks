{
 "cells": [
  {
   "cell_type": "code",
   "execution_count": 1,
   "metadata": {
    "collapsed": true
   },
   "outputs": [],
   "source": [
    "import numpy as np\n",
    "import pandas as pd\n",
    "\n",
    "r = 0.05  # constant short rate\n",
    "sigma = 0.5  # volatility factor\n",
    "\n",
    "\n",
    "def generate_sample_data(rows, cols, freq='1min'):\n",
    "    '''\n",
    "    Function to generate sample financial data.\n",
    "\n",
    "    Parameters\n",
    "    ==========\n",
    "    rows: int\n",
    "        number of rows to generate\n",
    "    cols: int\n",
    "        number of columns to generate\n",
    "    freq: str\n",
    "        frequency string for DatetimeIndex\n",
    "\n",
    "    Returns\n",
    "    =======\n",
    "    df: DataFrame\n",
    "        DataFrame object with the sample data\n",
    "    '''\n",
    "    rows = int(rows)\n",
    "    cols = int(cols)\n",
    "    # generate a DatetimeIndex object given the frequency\n",
    "    index = pd.date_range('2017-1-1', periods=rows, freq=freq)\n",
    "    # determine time delta in year fractions\n",
    "    dt = (index[1] - index[0]) / pd.Timedelta(value='365D')\n",
    "    # generate column names\n",
    "    columns = ['No%d' % i for i in range(cols)]\n",
    "    # generate sample paths for geometric Brownian motion\n",
    "    raw = np.exp(np.cumsum((r - 0.5 * sigma ** 2) * dt +\n",
    "                 sigma * np.sqrt(dt) *\n",
    "                 np.random.standard_normal((rows, cols)), axis=0))\n",
    "    # normalize the data to start at 100\n",
    "    raw = raw / raw[0] * 100\n",
    "    # generate the DataFrame object\n",
    "    df = pd.DataFrame(raw, index=index, columns=columns)\n",
    "    return df"
   ]
  },
  {
   "cell_type": "code",
   "execution_count": 2,
   "metadata": {},
   "outputs": [
    {
     "name": "stdout",
     "output_type": "stream",
     "text": [
      "                   No0         No1         No2\n",
      "2017-01-01  100.000000  100.000000  100.000000\n",
      "2017-01-02  101.209572  101.211912  100.034022\n",
      "2017-01-03   98.668371  106.718452  102.859925\n",
      "2017-01-04  102.119365  104.037964  102.737698\n",
      "2017-01-05  103.690040  103.095756  105.296765\n"
     ]
    }
   ],
   "source": [
    "rows = 5  # number of rows\n",
    "columns = 3  # number of columns\n",
    "freq = 'D'  # daily frequency\n",
    "print(generate_sample_data(rows, columns, freq))"
   ]
  },
  {
   "cell_type": "code",
   "execution_count": 3,
   "metadata": {
    "collapsed": true
   },
   "outputs": [],
   "source": [
    "data = generate_sample_data(rows=2.5e3, cols=5, freq='1s').round(2)  "
   ]
  },
  {
   "cell_type": "code",
   "execution_count": 4,
   "metadata": {},
   "outputs": [
    {
     "name": "stdout",
     "output_type": "stream",
     "text": [
      "<class 'pandas.core.frame.DataFrame'>\n",
      "DatetimeIndex: 2500 entries, 2017-01-01 00:00:00 to 2017-01-01 00:41:39\n",
      "Freq: S\n",
      "Data columns (total 5 columns):\n",
      "No0    2500 non-null float64\n",
      "No1    2500 non-null float64\n",
      "No2    2500 non-null float64\n",
      "No3    2500 non-null float64\n",
      "No4    2500 non-null float64\n",
      "dtypes: float64(5)\n",
      "memory usage: 117.2 KB\n"
     ]
    }
   ],
   "source": [
    "data.info()\n"
   ]
  },
  {
   "cell_type": "code",
   "execution_count": 5,
   "metadata": {
    "collapsed": true
   },
   "outputs": [],
   "source": [
    "import tstables\n",
    "import tables as tb"
   ]
  },
  {
   "cell_type": "code",
   "execution_count": 6,
   "metadata": {
    "collapsed": true
   },
   "outputs": [],
   "source": [
    "class desc(tb.IsDescription):\n",
    "    ''' Description of TsTables table structure.\n",
    "    '''\n",
    "    timestamp = tb.Int64Col(pos=0)\n",
    "    No0 = tb.Float64Col(pos=1)\n",
    "    No1 = tb.Float64Col(pos=2)\n",
    "    No2 = tb.Float64Col(pos=3)\n",
    "    No3 = tb.Float64Col(pos=4)\n",
    "    No4 = tb.Float64Col(pos=5)"
   ]
  },
  {
   "cell_type": "code",
   "execution_count": null,
   "metadata": {
    "collapsed": true
   },
   "outputs": [],
   "source": []
  }
 ],
 "metadata": {
  "kernelspec": {
   "display_name": "Python 3",
   "language": "python",
   "name": "python3"
  },
  "language_info": {
   "codemirror_mode": {
    "name": "ipython",
    "version": 3
   },
   "file_extension": ".py",
   "mimetype": "text/x-python",
   "name": "python",
   "nbconvert_exporter": "python",
   "pygments_lexer": "ipython3",
   "version": "3.6.1"
  }
 },
 "nbformat": 4,
 "nbformat_minor": 2
}
