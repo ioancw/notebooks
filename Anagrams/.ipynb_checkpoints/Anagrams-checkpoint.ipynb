{
 "cells": [
  {
   "cell_type": "code",
   "execution_count": 1,
   "metadata": {},
   "outputs": [],
   "source": [
    "def sort_word(s):\n",
    "    t = list(s)\n",
    "    t.sort()\n",
    "    t = ''.join(t)\n",
    "    return t\n",
    "\n",
    "def all_anagrams(filename):\n",
    "    anagrams = {}\n",
    "    for line in open(filename):\n",
    "        word = line.strip().lower()\n",
    "        sorted_word = sort_word(word)\n",
    "\n",
    "        if sorted_word not in anagrams:\n",
    "            anagrams[sorted_word] = [word]\n",
    "        else:\n",
    "            anagrams[sorted_word].append(word)\n",
    "    return anagrams\n",
    "\n",
    "def print_anagram_sets_in_order(d):\n",
    "    t = []\n",
    "    for v in d.values():\n",
    "        \n",
    "        if len(v) > 1:\n",
    "            t.append((len(v), v))\n",
    "\n",
    "    t.sort()\n",
    "\n",
    "    for x in t:\n",
    "        print(x)"
   ]
  },
  {
   "cell_type": "code",
   "execution_count": 2,
   "metadata": {},
   "outputs": [
    {
     "name": "stdout",
     "output_type": "stream",
     "text": [
      "CPU times: user 2 µs, sys: 1 µs, total: 3 µs\n",
      "Wall time: 5.72 µs\n"
     ]
    }
   ],
   "source": [
    "% time\n",
    "anagram_map = all_anagrams(r'words.txt')\n",
    "#print_anagram_sets_in_order(anagram_map)"
   ]
  },
  {
   "cell_type": "code",
   "execution_count": null,
   "metadata": {},
   "outputs": [],
   "source": []
  }
 ],
 "metadata": {
  "kernelspec": {
   "display_name": "Python 3",
   "language": "python",
   "name": "python3"
  },
  "language_info": {
   "codemirror_mode": {
    "name": "ipython",
    "version": 3
   },
   "file_extension": ".py",
   "mimetype": "text/x-python",
   "name": "python",
   "nbconvert_exporter": "python",
   "pygments_lexer": "ipython3",
   "version": "3.6.6"
  }
 },
 "nbformat": 4,
 "nbformat_minor": 2
}
